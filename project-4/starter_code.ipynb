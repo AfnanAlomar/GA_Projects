{
 "cells": [
  {
   "cell_type": "markdown",
   "metadata": {
    "focus": false,
    "id": "69b9a648-bcc7-490d-9f9b-ea244d156bd6"
   },
   "source": [
    "<img src=\"http://imgur.com/1ZcRyrc.png\" style=\"float: left; margin: 15px; height: 80px\">\n",
    "\n",
    "\n",
    "# Web Scraping for Indeed.com and Predicting Salaries"
   ]
  },
  {
   "cell_type": "markdown",
   "metadata": {
    "focus": false,
    "id": "34681254-c802-462f-829d-8894d0772d08"
   },
   "source": [
    "In this project, we will practice two major skills: collecting data by scraping a website and then building a binary predictor with Logistic Regression.\n",
    "\n",
    "We are going to collect salary information on data science jobs in a variety of markets. Then using the location, title and summary of the job we will attempt to predict the salary of the job. For job posting sites, this would be extraordinarily useful. While most listings DO NOT come with salary information (as you will see in this exercise), being able to extrapolate or predict the expected salaries from other listings can help guide negotiations.\n",
    "\n",
    "Normally, we could use regression for this task; however, we will convert this problem into classification and use Logistic Regression or any other suitable classifier.\n",
    "\n",
    "- Question: Why would we want this to be a classification problem?\n",
    "- Answer: While more precision may be better, there is a fair amount of natural variance in job salaries - predicting a range may be useful.\n",
    "\n",
    "Therefore, the first part of the assignment will be focused on scraping Indeed.com. In the second, we'll focus on using listings with salary information to build a model and predict additional salaries."
   ]
  },
  {
   "cell_type": "markdown",
   "metadata": {
    "focus": false,
    "id": "a948d79c-5527-4c0d-ab23-f5d43ce72056"
   },
   "source": [
    "### Scraping job listings from Indeed.com"
   ]
  },
  {
   "cell_type": "markdown",
   "metadata": {
    "focus": true,
    "id": "7203e0c9-e437-4802-a6ad-7dc464f94436"
   },
   "source": [
    "We will be scraping job listings from Indeed.com using BeautifulSoup. Luckily, Indeed.com is a simple text page where we can easily find relevant entries.\n",
    "\n",
    "First, look at the source of an Indeed.com page: (http://www.indeed.com/jobs?q=data+scientist+%2420%2C000&l=New+York&start=10\").\n",
    "\n",
    "Notice, each job listing is underneath a `div` tag with a class name of `result`. We can use BeautifulSoup to extract those. "
   ]
  },
  {
   "cell_type": "markdown",
   "metadata": {
    "focus": false,
    "id": "9732c901-ae26-4160-8376-42e22dd327df"
   },
   "source": [
    "#### Setup a request (using `requests`) to the URL below. Use BeautifulSoup to parse the page and extract all results (HINT: Look for div tags with class name result)\n",
    "\n",
    "The URL here has many query parameters:\n",
    "\n",
    "- `q` for the job search\n",
    "- This is followed by \"+20,000\" to return results with salaries (or expected salaries >$20,000)\n",
    "- `l` for a location \n",
    "- `start` for what result number to start on"
   ]
  },
  {
   "cell_type": "code",
   "execution_count": 1,
   "metadata": {
    "focus": false,
    "id": "e915023e-6b0d-4982-af2a-b1e0355f4927"
   },
   "outputs": [],
   "source": [
    "URL = \"http://www.indeed.com/jobs?q=data+scientist+%2420%2C000&l=New+York&start=10\""
   ]
  },
  {
   "cell_type": "code",
   "execution_count": 2,
   "metadata": {
    "focus": false,
    "id": "2efefc73-064a-482d-b3b5-ddf5508cb4ec"
   },
   "outputs": [],
   "source": [
    "import requests\n",
    "import bs4\n",
    "from bs4 import BeautifulSoup\n",
    "\n",
    "import numpy as np\n",
    "import pandas as pd\n",
    "import matplotlib.pyplot as plt\n",
    "%matplotlib inline\n",
    "import seaborn as sns"
   ]
  },
  {
   "cell_type": "code",
   "execution_count": 3,
   "metadata": {
    "focus": false,
    "id": "2c6752c4-7704-4c94-8bc0-6f13d2d0d570"
   },
   "outputs": [],
   "source": [
    "## YOUR CODE HERE\n",
    "html = requests.get(URL)\n",
    "# page = response.text\n",
    "soup = BeautifulSoup(html.text, 'html.parser')"
   ]
  },
  {
   "cell_type": "markdown",
   "metadata": {
    "focus": false,
    "id": "bb0b866a-26a7-45e9-8084-5a0f90eb4b3e"
   },
   "source": [
    "Let's look at one result more closely. A single `result` looks like\n",
    "\n",
    "```\n",
    "<div class=\" row result\" data-jk=\"2480d203f7e97210\" data-tn-component=\"organicJob\" id=\"p_2480d203f7e97210\" itemscope=\"\" itemtype=\"http://schema.org/JobPosting\">\n",
    "<h2 class=\"jobtitle\" id=\"jl_2480d203f7e97210\">\n",
    "<a class=\"turnstileLink\" data-tn-element=\"jobTitle\" onmousedown=\"return rclk(this,jobmap[0],1);\" rel=\"nofollow\" target=\"_blank\" title=\"AVP/Quantitative Analyst\">AVP/Quantitative Analyst</a>\n",
    "</h2>\n",
    "<span class=\"company\" itemprop=\"hiringOrganization\" itemtype=\"http://schema.org/Organization\">\n",
    "<span itemprop=\"name\">\n",
    "<a href=\"/cmp/Alliancebernstein?from=SERP&amp;campaignid=serp-linkcompanyname&amp;fromjk=2480d203f7e97210&amp;jcid=b374f2a780e04789\" target=\"_blank\">\n",
    "    AllianceBernstein</a></span>\n",
    "</span>\n",
    "<tr>\n",
    "<td class=\"snip\">\n",
    "<nobr>$117,500 - $127,500 a year</nobr>\n",
    "<div>\n",
    "<span class=\"summary\" itemprop=\"description\">\n",
    "C onduct quantitative and statistical research as well as portfolio management for various investment portfolios. Collaborate with Quantitative Analysts and</span>\n",
    "</div>\n",
    "</div>\n",
    "</td>\n",
    "</tr>\n",
    "</table>\n",
    "</div>\n",
    "```\n",
    "\n",
    "While this has some more verbose elements removed, we can see that there is some structure to the above:\n",
    "- The salary is available in a `nobr` element inside of a `td` element with `class='snip'`.\n",
    "- The title of a job is in a link with class set to `jobtitle` and a `data-tn-element='jobTitle'`.  \n",
    "- The location is set in a `span` with `class='location'`. \n",
    "- The company is set in a `span` with `class='company'`. "
   ]
  },
  {
   "cell_type": "markdown",
   "metadata": {
    "focus": false,
    "id": "f1eddb90-4ba8-483c-a229-77e93aa53119"
   },
   "source": [
    "### Write 4 functions to extract each item: location, company, job, and salary.\n",
    "\n",
    "Example: \n",
    "```python\n",
    "def extract_location_from_result(result):\n",
    "    return result.find ...\n",
    "```\n",
    "\n",
    "\n",
    "- **Make sure these functions are robust and can handle cases where the data/field may not be available.**\n",
    "    - Remember to check if a field is empty or `None` for attempting to call methods on it.\n",
    "    - Remember to use `try/except` if you anticipate errors.\n",
    "- **Test** the functions on the results above and simple examples."
   ]
  },
  {
   "cell_type": "code",
   "execution_count": 4,
   "metadata": {
    "focus": false,
    "id": "a1af53c9-9090-494f-b82e-cadb60a54909"
   },
   "outputs": [],
   "source": [
    "## YOUR CODE HERE\n",
    "def extract_location_from_result(soup):\n",
    "    location_list=[]\n",
    "    html = soup.find_all('div', {'class':'companyInfoWrapper'})\n",
    "    for loc in html:\n",
    "        if loc.find('span',{'class':'location'}):\n",
    "            location_list.append(loc.find('span',{'class':'location'}).text)\n",
    "        else: \n",
    "            location_list.append(None)\n",
    "    return location_list"
   ]
  },
  {
   "cell_type": "code",
   "execution_count": 6,
   "metadata": {},
   "outputs": [],
   "source": [
    "def extract_job_title_from_result(soup):\n",
    "    title_list = []\n",
    "    for title in soup.find_all('a',{'class':'turnstileLink'}):\n",
    "        try:\n",
    "            title_list.append(title['title'])\n",
    "        except:\n",
    "            title_list.append('non')\n",
    "    return title_list"
   ]
  },
  {
   "cell_type": "code",
   "execution_count": 8,
   "metadata": {},
   "outputs": [],
   "source": [
    "def extract_company_from_result(soup):\n",
    "    company_list = []\n",
    "    html = soup.find_all('div', {'class':'companyInfoWrapper'})\n",
    "    for company in html:\n",
    "        try:\n",
    "            company_list.append(company.find('span',{'class':'company'}).text.strip())\n",
    "        except:\n",
    "            company_list.append('non')\n",
    "    return company_list"
   ]
  },
  {
   "cell_type": "code",
   "execution_count": 10,
   "metadata": {},
   "outputs": [],
   "source": [
    "def extract_salary_from_result(soup):\n",
    "    salaries_list = []\n",
    "    for salary in soup.find_all('td', {'class':'snip'}):\n",
    "        if salary.find('span',{'class':'salary no-wrap'}):\n",
    "            salaries_list.append(salary.find('span',{'class':'salary no-wrap'}).text.strip())\n",
    "        else:\n",
    "            salaries_list.append(None)\n",
    "    return salaries_list"
   ]
  },
  {
   "cell_type": "code",
   "execution_count": null,
   "metadata": {},
   "outputs": [],
   "source": [
    "def extract_salary_from_result(soup):\n",
    "    salaries = []\n",
    "    for div in soup.find_all(name=\"div\", attrs={\"class\":\"row\"}):\n",
    "       ## from salary in indeed we use span\n",
    "        salary = div.find(name=\"span\", attrs={\"class\":\"salary\"})\n",
    "        if salary:\n",
    "            salaries.append(salary.text.strip())\n",
    "        else:\n",
    "            salaries.append(None)\n",
    "\n",
    "    return(salaries)"
   ]
  },
  {
   "cell_type": "markdown",
   "metadata": {
    "focus": false,
    "id": "34070e89-9521-4b45-90c8-57a6599aac68"
   },
   "source": [
    "Now, to scale up our scraping, we need to accumulate more results. We can do this by examining the URL above.\n",
    "\n",
    "- \"http://www.indeed.com/jobs?q=data+scientist+%2420%2C000&l=New+York&start=10\"\n",
    "\n",
    "There are two query parameters here we can alter to collect more results, the `l=New+York` and the `start=10`. The first controls the location of the results (so we can try a different city). The second controls where in the results to start and gives 10 results (thus, we can keep incrementing by 10 to go further in the list)."
   ]
  },
  {
   "cell_type": "markdown",
   "metadata": {
    "focus": false,
    "id": "e8beed7c-3e42-40c0-810f-5f67f8f885a0"
   },
   "source": [
    "#### Complete the following code to collect results from multiple cities and starting points. \n",
    "- Enter your city below to add it to the search.\n",
    "- Remember to convert your salary to U.S. Dollars to match the other cities if the currency is different."
   ]
  },
  {
   "cell_type": "code",
   "execution_count": 26,
   "metadata": {
    "focus": false,
    "id": "04b0f9af-540e-402f-8292-81748707c676"
   },
   "outputs": [],
   "source": [
    "url_template = \"http://www.indeed.com/jobs?q=data+scientist+%2420%2C000&l={}&start={}\"\n",
    "max_results_per_city = 100 # Set this to a high-value (5000) to generate more results. \n",
    "# Crawling more results, will also take much longer. First test your code on a small number of results and then expand.\n",
    "\n",
    "results = []\n",
    "\n",
    "for city in set(['New+York', 'Chicago', 'San+Francisco', 'Austin', 'Seattle', \n",
    "    'Los+Angeles', 'Philadelphia', 'Atlanta', 'Dallas', 'Pittsburgh', \n",
    "    'Portland', 'Phoenix', 'Denver', 'Houston', 'Miami']):\n",
    "    for start in range(0, max_results_per_city, 10):\n",
    "        # Grab the results from the request (as above)\n",
    "        r=requests.get(url_template.format(city,start))\n",
    "        soup2=BeautifulSoup(r.text,'html.parser')\n",
    "        # Append to the full set of results\n",
    "        results.append(soup2)\n",
    "        pass"
   ]
  },
  {
   "cell_type": "code",
   "execution_count": 27,
   "metadata": {},
   "outputs": [
    {
     "data": {
      "text/plain": [
       "150"
      ]
     },
     "execution_count": 27,
     "metadata": {},
     "output_type": "execute_result"
    }
   ],
   "source": [
    "len(results)"
   ]
  },
  {
   "cell_type": "markdown",
   "metadata": {
    "focus": false,
    "id": "20339c09-5032-4e27-91be-286e9b46cd13"
   },
   "source": [
    "#### Use the functions you wrote above to parse out the 4 fields - location, title, company and salary. Create a dataframe from the results with those 4 columns."
   ]
  },
  {
   "cell_type": "code",
   "execution_count": 28,
   "metadata": {
    "focus": false,
    "id": "6e259594-1c52-436b-ab9e-527e071941c1"
   },
   "outputs": [],
   "source": [
    "## YOUR CODE HERE\n",
    "indeed_df=pd.DataFrame()\n",
    "\n",
    "for soup in results:\n",
    "    df=pd.DataFrame()\n",
    "    df['job_title'] = extract_job_title_from_result(soup)\n",
    "    df['company_name'] = extract_company_from_result(soup)\n",
    "    df['location']= extract_location_from_result(soup)\n",
    "    df['salary']= extract_salary_from_result(soup)\n",
    "    indeed_df = indeed_df.append(df,ignore_index=True)"
   ]
  },
  {
   "cell_type": "code",
   "execution_count": 29,
   "metadata": {},
   "outputs": [
    {
     "data": {
      "text/plain": [
       "(1496, 4)"
      ]
     },
     "execution_count": 29,
     "metadata": {},
     "output_type": "execute_result"
    }
   ],
   "source": [
    "indeed_df.shape"
   ]
  },
  {
   "cell_type": "code",
   "execution_count": 30,
   "metadata": {},
   "outputs": [
    {
     "data": {
      "text/html": [
       "<div>\n",
       "<style scoped>\n",
       "    .dataframe tbody tr th:only-of-type {\n",
       "        vertical-align: middle;\n",
       "    }\n",
       "\n",
       "    .dataframe tbody tr th {\n",
       "        vertical-align: top;\n",
       "    }\n",
       "\n",
       "    .dataframe thead th {\n",
       "        text-align: right;\n",
       "    }\n",
       "</style>\n",
       "<table border=\"1\" class=\"dataframe\">\n",
       "  <thead>\n",
       "    <tr style=\"text-align: right;\">\n",
       "      <th></th>\n",
       "      <th>job_title</th>\n",
       "      <th>company_name</th>\n",
       "      <th>location</th>\n",
       "      <th>salary</th>\n",
       "    </tr>\n",
       "  </thead>\n",
       "  <tbody>\n",
       "    <tr>\n",
       "      <th>1491</th>\n",
       "      <td>Learning Scientist / Spanish Expert, PhD</td>\n",
       "      <td>Duolingo</td>\n",
       "      <td>Pittsburgh, PA</td>\n",
       "      <td>None</td>\n",
       "    </tr>\n",
       "    <tr>\n",
       "      <th>1492</th>\n",
       "      <td>Software Engineer (Infrastructure)</td>\n",
       "      <td>Facebook</td>\n",
       "      <td>Pittsburgh, PA</td>\n",
       "      <td>$94,000 - $141,000 a year (Indeed est.)</td>\n",
       "    </tr>\n",
       "    <tr>\n",
       "      <th>1493</th>\n",
       "      <td>Sr. Analytics Consultant – BI &amp; Big Data Scrum...</td>\n",
       "      <td>EXL</td>\n",
       "      <td>Pittsburgh, PA</td>\n",
       "      <td>$101,000 - $152,000 a year (Indeed est.)</td>\n",
       "    </tr>\n",
       "    <tr>\n",
       "      <th>1494</th>\n",
       "      <td>Laboratory IS Clinical Application Specialist</td>\n",
       "      <td>Gila River Health Care</td>\n",
       "      <td>Laboratory, PA</td>\n",
       "      <td>None</td>\n",
       "    </tr>\n",
       "    <tr>\n",
       "      <th>1495</th>\n",
       "      <td>Senior Sales Manager - Pittsburgh</td>\n",
       "      <td>JUUL Labs</td>\n",
       "      <td>Pittsburgh, PA</td>\n",
       "      <td>None</td>\n",
       "    </tr>\n",
       "  </tbody>\n",
       "</table>\n",
       "</div>"
      ],
      "text/plain": [
       "                                              job_title  \\\n",
       "1491           Learning Scientist / Spanish Expert, PhD   \n",
       "1492                 Software Engineer (Infrastructure)   \n",
       "1493  Sr. Analytics Consultant – BI & Big Data Scrum...   \n",
       "1494      Laboratory IS Clinical Application Specialist   \n",
       "1495                  Senior Sales Manager - Pittsburgh   \n",
       "\n",
       "                company_name        location  \\\n",
       "1491                Duolingo  Pittsburgh, PA   \n",
       "1492                Facebook  Pittsburgh, PA   \n",
       "1493                     EXL  Pittsburgh, PA   \n",
       "1494  Gila River Health Care  Laboratory, PA   \n",
       "1495               JUUL Labs  Pittsburgh, PA   \n",
       "\n",
       "                                        salary  \n",
       "1491                                      None  \n",
       "1492   $94,000 - $141,000 a year (Indeed est.)  \n",
       "1493  $101,000 - $152,000 a year (Indeed est.)  \n",
       "1494                                      None  \n",
       "1495                                      None  "
      ]
     },
     "execution_count": 30,
     "metadata": {},
     "output_type": "execute_result"
    }
   ],
   "source": [
    "indeed_df.tail()"
   ]
  },
  {
   "cell_type": "markdown",
   "metadata": {
    "focus": false,
    "id": "ff98ce64-78a7-441f-a675-63464e32c834"
   },
   "source": [
    "Lastly, we need to clean up salary data. \n",
    "\n",
    "1. Only a small number of the scraped results have salary information - only these will be used for modeling.\n",
    "1. Some of the salaries are not yearly but hourly or weekly, these will not be useful to us for now.\n",
    "1. Some of the entries may be duplicated.\n",
    "1. The salaries are given as text and usually with ranges."
   ]
  },
  {
   "cell_type": "markdown",
   "metadata": {
    "focus": false,
    "id": "ff98ce64-78a7-441f-a675-63464e32c834"
   },
   "source": [
    "#### Find the entries with annual salary entries, by filtering the entries without salaries or salaries that are not yearly (filter those that refer to hour or week). Also, remove duplicate entries."
   ]
  },
  {
   "cell_type": "code",
   "execution_count": 31,
   "metadata": {
    "focus": false,
    "id": "58533e57-f86b-494a-b841-e7b59c6229c6"
   },
   "outputs": [
    {
     "data": {
      "text/plain": [
       "$53,200 - $79,800 a year                    4\n",
       "$52,139 - $67,781 a year                    4\n",
       "$40,000 a year                              3\n",
       "$94,000 - $139,000 a year (Indeed est.)     3\n",
       "$2,406 - $3,105 a month                     3\n",
       "$35,034 - $54,068 a year                    2\n",
       "$2,776 - $3,506 a month                     2\n",
       "$41,600 - $64,050 a year                    2\n",
       "$41,812 - $65,073 a year                    2\n",
       "$3,191 - $4,253 a month                     2\n",
       "$18.50 an hour                              2\n",
       "$3,105 - $4,040 a month                     2\n",
       "$113,000 - $166,000 a year (Indeed est.)    2\n",
       "$33,394 - $164,200 a year                   2\n",
       "$59,694 - $77,603 a year                    2\n",
       "$116,000 - $171,000 a year (Indeed est.)    2\n",
       "$92,000 - $136,000 a year (Indeed est.)     2\n",
       "$12 an hour                                 2\n",
       "$65 - $75 an hour                           2\n",
       "$101,000 - $149,000 a year (Indeed est.)    2\n",
       "$82,000 - $129,996 a year                   2\n",
       "$102,000 - $136,000 a year (Indeed est.)    1\n",
       "$86,000 - $127,000 a year (Indeed est.)     1\n",
       "$17.11 - $28.43 an hour                     1\n",
       "$106,000 - $157,000 a year (Indeed est.)    1\n",
       "$100,000 - $140,000 a year                  1\n",
       "$29.82 - $37.80 an hour                     1\n",
       "$85,000 - $126,000 a year (Indeed est.)     1\n",
       "$102,000 - $150,000 a year (Indeed est.)    1\n",
       "$40,000 - $45,000 a year                    1\n",
       "                                           ..\n",
       "$23,184 a year                              1\n",
       "$105,000 - $155,000 a year (Indeed est.)    1\n",
       "$95,000 - $140,000 a year (Indeed est.)     1\n",
       "$17.83 - $24.14 an hour                     1\n",
       "$31.80 - $37.73 an hour                     1\n",
       "$112,000 - $165,000 a year (Indeed est.)    1\n",
       "$103,000 - $152,000 a year (Indeed est.)    1\n",
       "$15.00 - $16.03 an hour                     1\n",
       "$60,000 - $100,000 a year                   1\n",
       "$85,587 - $125,144 a year                   1\n",
       "$45,180 - $75,298 a year                    1\n",
       "$113,000 - $167,000 a year (Indeed est.)    1\n",
       "$67,000 - $72,000 a year                    1\n",
       "$101,000 - $152,000 a year (Indeed est.)    1\n",
       "$107,000 - $158,000 a year (Indeed est.)    1\n",
       "$101,000 - $148,000 a year (Indeed est.)    1\n",
       "$95,000 - $141,000 a year (Indeed est.)     1\n",
       "$33,000 - $44,000 a year (Indeed est.)      1\n",
       "$77,000 - $113,000 a year (Indeed est.)     1\n",
       "$107,000 - $157,000 a year (Indeed est.)    1\n",
       "$63 an hour                                 1\n",
       "$5,614 - $7,549 a month                     1\n",
       "$3,575 - $4,040 a month                     1\n",
       "$52,000 a year                              1\n",
       "$21.48 - $27.33 an hour                     1\n",
       "$53,200 - $66,500 a year                    1\n",
       "$90,000 - $133,000 a year (Indeed est.)     1\n",
       "$60,000 - $70,000 a year                    1\n",
       "$70,000 - $90,000 a year                    1\n",
       "$96,000 - $142,000 a year (Indeed est.)     1\n",
       "Name: salary, Length: 103, dtype: int64"
      ]
     },
     "execution_count": 31,
     "metadata": {},
     "output_type": "execute_result"
    }
   ],
   "source": [
    "## YOUR CODE HERE\n",
    "indeed_df['salary'].value_counts()"
   ]
  },
  {
   "cell_type": "code",
   "execution_count": 32,
   "metadata": {},
   "outputs": [
    {
     "data": {
      "text/plain": [
       "job_title          0\n",
       "company_name       0\n",
       "location           0\n",
       "salary          1365\n",
       "dtype: int64"
      ]
     },
     "execution_count": 32,
     "metadata": {},
     "output_type": "execute_result"
    }
   ],
   "source": [
    "indeed_df.isnull().sum() "
   ]
  },
  {
   "cell_type": "code",
   "execution_count": 33,
   "metadata": {},
   "outputs": [
    {
     "data": {
      "text/plain": [
       "22      $101,000 - $148,000 a year (Indeed est.)\n",
       "23       $95,000 - $140,000 a year (Indeed est.)\n",
       "25      $113,000 - $166,000 a year (Indeed est.)\n",
       "27      $116,000 - $171,000 a year (Indeed est.)\n",
       "29       $86,000 - $127,000 a year (Indeed est.)\n",
       "49                      $45,180 - $75,298 a year\n",
       "50                      $70,000 - $90,000 a year\n",
       "142                     $53,200 - $66,500 a year\n",
       "145                     $53,200 - $79,800 a year\n",
       "154                     $53,200 - $79,800 a year\n",
       "161                     $53,200 - $79,800 a year\n",
       "181                      $3,223 - $4,834 a month\n",
       "182                     $53,200 - $79,800 a year\n",
       "189                               $65,000 a year\n",
       "204                               $40,000 a year\n",
       "223                     $67,000 - $72,000 a year\n",
       "230                     $59,694 - $77,603 a year\n",
       "234                     $52,139 - $67,781 a year\n",
       "240                     $52,139 - $67,781 a year\n",
       "241                               $18.50 an hour\n",
       "242                    $33,394 - $164,200 a year\n",
       "246      $92,000 - $136,000 a year (Indeed est.)\n",
       "252                     $59,694 - $77,603 a year\n",
       "266                     $52,139 - $67,781 a year\n",
       "268                               $18.50 an hour\n",
       "273                     $52,139 - $67,781 a year\n",
       "279                    $33,394 - $164,200 a year\n",
       "300      $68,000 - $100,000 a year (Indeed est.)\n",
       "303     $106,000 - $156,000 a year (Indeed est.)\n",
       "304      $87,000 - $128,000 a year (Indeed est.)\n",
       "                          ...                   \n",
       "1178    $109,000 - $161,000 a year (Indeed est.)\n",
       "1185      $49,000 - $69,000 a year (Indeed est.)\n",
       "1199                    $69,500 - $80,000 a year\n",
       "1206                   $51,186 - $114,746 a year\n",
       "1214                     $21.48 - $27.33 an hour\n",
       "1229                              $23,184 a year\n",
       "1236     $72,000 - $107,000 a year (Indeed est.)\n",
       "1238      $33,000 - $44,000 a year (Indeed est.)\n",
       "1242    $101,000 - $149,000 a year (Indeed est.)\n",
       "1243     $92,000 - $136,000 a year (Indeed est.)\n",
       "1261                   $82,000 - $129,996 a year\n",
       "1263                              $50,000 a year\n",
       "1265                   $82,000 - $129,996 a year\n",
       "1289                  $104,304 - $135,595 a year\n",
       "1294                              $55,000 a year\n",
       "1308                     $3,266 - $4,365 a month\n",
       "1309                     $2,406 - $3,105 a month\n",
       "1317                     $2,776 - $3,506 a month\n",
       "1328                     $2,776 - $3,506 a month\n",
       "1332                     $2,406 - $3,105 a month\n",
       "1352                     $3,191 - $4,253 a month\n",
       "1357                     $2,406 - $3,105 a month\n",
       "1386                     $3,191 - $4,253 a month\n",
       "1392                     $29.82 - $37.80 an hour\n",
       "1395                     $5,614 - $7,549 a month\n",
       "1467                     $17.11 - $28.43 an hour\n",
       "1488    $102,000 - $136,000 a year (Indeed est.)\n",
       "1489    $106,000 - $157,000 a year (Indeed est.)\n",
       "1492     $94,000 - $141,000 a year (Indeed est.)\n",
       "1493    $101,000 - $152,000 a year (Indeed est.)\n",
       "Name: salary, Length: 131, dtype: object"
      ]
     },
     "execution_count": 33,
     "metadata": {},
     "output_type": "execute_result"
    }
   ],
   "source": [
    "# Obtain only values with salary entries\n",
    "indeed_df[indeed_df['salary'].notnull()]['salary']"
   ]
  },
  {
   "cell_type": "code",
   "execution_count": 34,
   "metadata": {},
   "outputs": [],
   "source": [
    "# Remove hourly and monthly salary data - only keeping yearly data\n",
    "monthmask = indeed_df[(indeed_df['salary'].isnull()==False) & (indeed_df['salary'].str.contains('month'))]\n",
    "hourmask = indeed_df[(indeed_df['salary'].isnull()==False) & (indeed_df['salary'].str.contains('hour'))]\n",
    "\n",
    "indeed_df.drop(monthmask.index, inplace=True)\n",
    "indeed_df.drop(hourmask.index, inplace=True)"
   ]
  },
  {
   "cell_type": "markdown",
   "metadata": {
    "focus": false,
    "id": "7d4bc860-b214-4f75-9cd0-b234830b1ec2"
   },
   "source": [
    "#### Write a function that takes a salary string and converts it to a number, averaging a salary range if necessary."
   ]
  },
  {
   "cell_type": "code",
   "execution_count": 35,
   "metadata": {
    "focus": false,
    "id": "a0f701e0-80bd-40ba-9101-4535860c0968"
   },
   "outputs": [],
   "source": [
    "## YOUR CODE HERE\n",
    "def converting_salary(salary):\n",
    "    salary = str(salary)\n",
    "    salary = salary.replace(\",\",\"\").replace(\"$\",\"\").replace(\"-\",\" \") #all salaries in dollars\n",
    "    salary = [int(s) for s in salary.split() if s.isdigit()]\n",
    "    if len(salary)>1:\n",
    "        salary = (sum(salary)/2)\n",
    "    else:\n",
    "        salary = (sum(salary))a\n",
    "    return salary"
   ]
  },
  {
   "cell_type": "code",
   "execution_count": 42,
   "metadata": {},
   "outputs": [],
   "source": [
    "sal=[]\n",
    "for x in indeed_df['salary']:\n",
    "    sal.append(converting_salary(x))\n",
    "    \n",
    "indeed_df['avg_salary'] = sal"
   ]
  },
  {
   "cell_type": "code",
   "execution_count": 44,
   "metadata": {},
   "outputs": [
    {
     "data": {
      "text/html": [
       "<div>\n",
       "<style scoped>\n",
       "    .dataframe tbody tr th:only-of-type {\n",
       "        vertical-align: middle;\n",
       "    }\n",
       "\n",
       "    .dataframe tbody tr th {\n",
       "        vertical-align: top;\n",
       "    }\n",
       "\n",
       "    .dataframe thead th {\n",
       "        text-align: right;\n",
       "    }\n",
       "</style>\n",
       "<table border=\"1\" class=\"dataframe\">\n",
       "  <thead>\n",
       "    <tr style=\"text-align: right;\">\n",
       "      <th></th>\n",
       "      <th>job_title</th>\n",
       "      <th>company_name</th>\n",
       "      <th>location</th>\n",
       "      <th>salary</th>\n",
       "      <th>avg_salary</th>\n",
       "    </tr>\n",
       "  </thead>\n",
       "  <tbody>\n",
       "    <tr>\n",
       "      <th>1491</th>\n",
       "      <td>Learning Scientist / Spanish Expert, PhD</td>\n",
       "      <td>Duolingo</td>\n",
       "      <td>Pittsburgh, PA</td>\n",
       "      <td>None</td>\n",
       "      <td>0.0</td>\n",
       "    </tr>\n",
       "    <tr>\n",
       "      <th>1492</th>\n",
       "      <td>Software Engineer (Infrastructure)</td>\n",
       "      <td>Facebook</td>\n",
       "      <td>Pittsburgh, PA</td>\n",
       "      <td>$94,000 - $141,000 a year (Indeed est.)</td>\n",
       "      <td>117500.0</td>\n",
       "    </tr>\n",
       "    <tr>\n",
       "      <th>1493</th>\n",
       "      <td>Sr. Analytics Consultant – BI &amp; Big Data Scrum...</td>\n",
       "      <td>EXL</td>\n",
       "      <td>Pittsburgh, PA</td>\n",
       "      <td>$101,000 - $152,000 a year (Indeed est.)</td>\n",
       "      <td>126500.0</td>\n",
       "    </tr>\n",
       "    <tr>\n",
       "      <th>1494</th>\n",
       "      <td>Laboratory IS Clinical Application Specialist</td>\n",
       "      <td>Gila River Health Care</td>\n",
       "      <td>Laboratory, PA</td>\n",
       "      <td>None</td>\n",
       "      <td>0.0</td>\n",
       "    </tr>\n",
       "    <tr>\n",
       "      <th>1495</th>\n",
       "      <td>Senior Sales Manager - Pittsburgh</td>\n",
       "      <td>JUUL Labs</td>\n",
       "      <td>Pittsburgh, PA</td>\n",
       "      <td>None</td>\n",
       "      <td>0.0</td>\n",
       "    </tr>\n",
       "  </tbody>\n",
       "</table>\n",
       "</div>"
      ],
      "text/plain": [
       "                                              job_title  \\\n",
       "1491           Learning Scientist / Spanish Expert, PhD   \n",
       "1492                 Software Engineer (Infrastructure)   \n",
       "1493  Sr. Analytics Consultant – BI & Big Data Scrum...   \n",
       "1494      Laboratory IS Clinical Application Specialist   \n",
       "1495                  Senior Sales Manager - Pittsburgh   \n",
       "\n",
       "                company_name        location  \\\n",
       "1491                Duolingo  Pittsburgh, PA   \n",
       "1492                Facebook  Pittsburgh, PA   \n",
       "1493                     EXL  Pittsburgh, PA   \n",
       "1494  Gila River Health Care  Laboratory, PA   \n",
       "1495               JUUL Labs  Pittsburgh, PA   \n",
       "\n",
       "                                        salary  avg_salary  \n",
       "1491                                      None         0.0  \n",
       "1492   $94,000 - $141,000 a year (Indeed est.)    117500.0  \n",
       "1493  $101,000 - $152,000 a year (Indeed est.)    126500.0  \n",
       "1494                                      None         0.0  \n",
       "1495                                      None         0.0  "
      ]
     },
     "execution_count": 44,
     "metadata": {},
     "output_type": "execute_result"
    }
   ],
   "source": [
    "indeed_df.tail()"
   ]
  },
  {
   "cell_type": "markdown",
   "metadata": {
    "focus": false,
    "id": "43e71edd-210e-42b1-9336-70a931f048af"
   },
   "source": [
    "### Save your results as a CSV"
   ]
  },
  {
   "cell_type": "code",
   "execution_count": null,
   "metadata": {
    "focus": false,
    "id": "783fd153-28ac-47ab-bfca-27e7c1de95b4"
   },
   "outputs": [],
   "source": [
    "## YOUR CODE HERE\n",
    "indeed_df.to_csv('./project-4.csv', index=False)"
   ]
  },
  {
   "cell_type": "markdown",
   "metadata": {
    "focus": false,
    "id": "04563b69-f7b6-466f-9d65-fc62c9ddee6a"
   },
   "source": [
    "## QUESTION 2: Factors that distinguish job category\n",
    "\n",
    "Using the job postings you scraped for part 1 (or potentially new job postings from a second round of scraping), identify features in the data related to job postings that can distinguish job titles from each other. There are a variety of interesting ways you can frame the target variable, for example:\n",
    "- What components of a job posting distinguish data scientists from other data jobs?\n",
    "- What features are important for distinguishing junior vs. senior positions?\n",
    "- Do the requirements for titles vary significantly with industry (e.g. healthcare vs. government)?\n",
    "\n",
    "You may end up making multiple classification models to tackle different questions. Be sure to clearly explain your hypotheses and framing, any feature engineering, and what your target variables are. The type of classification model you choose is up to you. Be sure to interpret your results and evaluate your model's performance."
   ]
  },
  {
   "cell_type": "markdown",
   "metadata": {
    "focus": false,
    "id": "243e949e-2742-40af-872e-fec475fd306c"
   },
   "source": [
    "#### Load in the the data of scraped salaries"
   ]
  },
  {
   "cell_type": "code",
   "execution_count": 51,
   "metadata": {
    "focus": false,
    "id": "588f9845-6143-4bcc-bfd1-85d45b79303d"
   },
   "outputs": [],
   "source": [
    "## YOUR CODE HERE\n",
    "v2_df=pd.read_csv('./project-4.csv')"
   ]
  },
  {
   "cell_type": "code",
   "execution_count": 52,
   "metadata": {},
   "outputs": [],
   "source": [
    "# indeed_df.shape, v2_df.shape"
   ]
  },
  {
   "cell_type": "code",
   "execution_count": 53,
   "metadata": {},
   "outputs": [
    {
     "name": "stdout",
     "output_type": "stream",
     "text": [
      "(99, 5)\n"
     ]
    },
    {
     "data": {
      "text/html": [
       "<div>\n",
       "<style scoped>\n",
       "    .dataframe tbody tr th:only-of-type {\n",
       "        vertical-align: middle;\n",
       "    }\n",
       "\n",
       "    .dataframe tbody tr th {\n",
       "        vertical-align: top;\n",
       "    }\n",
       "\n",
       "    .dataframe thead th {\n",
       "        text-align: right;\n",
       "    }\n",
       "</style>\n",
       "<table border=\"1\" class=\"dataframe\">\n",
       "  <thead>\n",
       "    <tr style=\"text-align: right;\">\n",
       "      <th></th>\n",
       "      <th>job_title</th>\n",
       "      <th>company_name</th>\n",
       "      <th>location</th>\n",
       "      <th>salary</th>\n",
       "      <th>avg_salary</th>\n",
       "    </tr>\n",
       "  </thead>\n",
       "  <tbody>\n",
       "    <tr>\n",
       "      <th>0</th>\n",
       "      <td>Data Scientist</td>\n",
       "      <td>Dollar Shave Club</td>\n",
       "      <td>Marina del Rey, CA 90292</td>\n",
       "      <td>$101,000 - $148,000 a year (Indeed est.)</td>\n",
       "      <td>124500.0</td>\n",
       "    </tr>\n",
       "    <tr>\n",
       "      <th>1</th>\n",
       "      <td>Staff Data Scientist</td>\n",
       "      <td>Areté Associates</td>\n",
       "      <td>Northridge, CA</td>\n",
       "      <td>$95,000 - $140,000 a year (Indeed est.)</td>\n",
       "      <td>117500.0</td>\n",
       "    </tr>\n",
       "    <tr>\n",
       "      <th>2</th>\n",
       "      <td>NLP Data Scientist</td>\n",
       "      <td>Albert</td>\n",
       "      <td>Los Angeles, CA</td>\n",
       "      <td>$113,000 - $166,000 a year (Indeed est.)</td>\n",
       "      <td>139500.0</td>\n",
       "    </tr>\n",
       "    <tr>\n",
       "      <th>3</th>\n",
       "      <td>Data Scientist - Healthcare</td>\n",
       "      <td>Beyond Limits</td>\n",
       "      <td>Glendale, CA</td>\n",
       "      <td>$116,000 - $171,000 a year (Indeed est.)</td>\n",
       "      <td>143500.0</td>\n",
       "    </tr>\n",
       "    <tr>\n",
       "      <th>4</th>\n",
       "      <td>Data Scientist</td>\n",
       "      <td>Hearts and Science</td>\n",
       "      <td>Burbank, CA</td>\n",
       "      <td>$86,000 - $127,000 a year (Indeed est.)</td>\n",
       "      <td>106500.0</td>\n",
       "    </tr>\n",
       "  </tbody>\n",
       "</table>\n",
       "</div>"
      ],
      "text/plain": [
       "                     job_title        company_name                  location  \\\n",
       "0               Data Scientist   Dollar Shave Club  Marina del Rey, CA 90292   \n",
       "1         Staff Data Scientist    Areté Associates            Northridge, CA   \n",
       "2           NLP Data Scientist              Albert           Los Angeles, CA   \n",
       "3  Data Scientist - Healthcare       Beyond Limits              Glendale, CA   \n",
       "4               Data Scientist  Hearts and Science               Burbank, CA   \n",
       "\n",
       "                                     salary  avg_salary  \n",
       "0  $101,000 - $148,000 a year (Indeed est.)    124500.0  \n",
       "1   $95,000 - $140,000 a year (Indeed est.)    117500.0  \n",
       "2  $113,000 - $166,000 a year (Indeed est.)    139500.0  \n",
       "3  $116,000 - $171,000 a year (Indeed est.)    143500.0  \n",
       "4   $86,000 - $127,000 a year (Indeed est.)    106500.0  "
      ]
     },
     "execution_count": 53,
     "metadata": {},
     "output_type": "execute_result"
    }
   ],
   "source": [
    "v2_df.dropna(inplace=True)\n",
    "print(v2_df.shape)\n",
    "v2_df.reset_index(inplace=True, drop=True)\n",
    "v2_df.head()"
   ]
  },
  {
   "cell_type": "markdown",
   "metadata": {
    "focus": false,
    "id": "c7631f51-07f2-4c79-a093-3e9bc7849a48"
   },
   "source": [
    "#### We want to predict a binary variable - whether the salary was low or high. Compute the median salary and create a new binary variable that is true when the salary is high (above the median).\n",
    "\n",
    "We could also perform Linear Regression (or any regression) to predict the salary value here. Instead, we are going to convert this into a _binary_ classification problem, by predicting two classes, HIGH vs LOW salary.\n",
    "\n",
    "While performing regression may be better, performing classification may help remove some of the noise of the extreme salaries. We don't have to choose the `median` as the splitting point - we could also split on the 75th percentile or any other reasonable breaking point.\n",
    "\n",
    "In fact, the ideal scenario may be to predict many levels of salaries."
   ]
  },
  {
   "cell_type": "code",
   "execution_count": 54,
   "metadata": {
    "focus": false,
    "id": "c20d2498-151c-44c3-a453-3a333c79a0ac"
   },
   "outputs": [
    {
     "data": {
      "text/plain": [
       "(99, 5)"
      ]
     },
     "execution_count": 54,
     "metadata": {},
     "output_type": "execute_result"
    }
   ],
   "source": [
    "## YOUR CODE HERE\n",
    "new_df = v2_df[v2_df['salary'].notnull()]\n",
    "new_df.shape"
   ]
  },
  {
   "cell_type": "code",
   "execution_count": 55,
   "metadata": {},
   "outputs": [],
   "source": [
    "median = new_df['avg_salary'].median()"
   ]
  },
  {
   "cell_type": "code",
   "execution_count": 56,
   "metadata": {},
   "outputs": [],
   "source": [
    "#find salaies above the median\n",
    "new_df['salary_binary'] = new_df['avg_salary'].apply(lambda x: 1 if x > median else 0)"
   ]
  },
  {
   "cell_type": "code",
   "execution_count": 57,
   "metadata": {},
   "outputs": [
    {
     "data": {
      "text/html": [
       "<div>\n",
       "<style scoped>\n",
       "    .dataframe tbody tr th:only-of-type {\n",
       "        vertical-align: middle;\n",
       "    }\n",
       "\n",
       "    .dataframe tbody tr th {\n",
       "        vertical-align: top;\n",
       "    }\n",
       "\n",
       "    .dataframe thead th {\n",
       "        text-align: right;\n",
       "    }\n",
       "</style>\n",
       "<table border=\"1\" class=\"dataframe\">\n",
       "  <thead>\n",
       "    <tr style=\"text-align: right;\">\n",
       "      <th></th>\n",
       "      <th>job_title</th>\n",
       "      <th>company_name</th>\n",
       "      <th>location</th>\n",
       "      <th>salary</th>\n",
       "      <th>avg_salary</th>\n",
       "      <th>salary_binary</th>\n",
       "    </tr>\n",
       "  </thead>\n",
       "  <tbody>\n",
       "    <tr>\n",
       "      <th>94</th>\n",
       "      <td>Research Engineering Scientist Associate III, ...</td>\n",
       "      <td>University of Texas at Austin</td>\n",
       "      <td>Austin, TX</td>\n",
       "      <td>$55,000 a year</td>\n",
       "      <td>55000.0</td>\n",
       "      <td>0</td>\n",
       "    </tr>\n",
       "    <tr>\n",
       "      <th>95</th>\n",
       "      <td>Senior Software Engineer - Artificial Intellig...</td>\n",
       "      <td>Redhorse Corporation</td>\n",
       "      <td>Carnegie, PA 15106</td>\n",
       "      <td>$102,000 - $136,000 a year (Indeed est.)</td>\n",
       "      <td>119000.0</td>\n",
       "      <td>1</td>\n",
       "    </tr>\n",
       "    <tr>\n",
       "      <th>96</th>\n",
       "      <td>AVMaps Workflow Technical Lead Manager / TLM</td>\n",
       "      <td>Uber</td>\n",
       "      <td>Pittsburgh, PA 15201 (Central Lawrenceville area)</td>\n",
       "      <td>$106,000 - $157,000 a year (Indeed est.)</td>\n",
       "      <td>131500.0</td>\n",
       "      <td>1</td>\n",
       "    </tr>\n",
       "    <tr>\n",
       "      <th>97</th>\n",
       "      <td>Software Engineer (Infrastructure)</td>\n",
       "      <td>Facebook</td>\n",
       "      <td>Pittsburgh, PA</td>\n",
       "      <td>$94,000 - $141,000 a year (Indeed est.)</td>\n",
       "      <td>117500.0</td>\n",
       "      <td>1</td>\n",
       "    </tr>\n",
       "    <tr>\n",
       "      <th>98</th>\n",
       "      <td>Sr. Analytics Consultant – BI &amp; Big Data Scrum...</td>\n",
       "      <td>EXL</td>\n",
       "      <td>Pittsburgh, PA</td>\n",
       "      <td>$101,000 - $152,000 a year (Indeed est.)</td>\n",
       "      <td>126500.0</td>\n",
       "      <td>1</td>\n",
       "    </tr>\n",
       "  </tbody>\n",
       "</table>\n",
       "</div>"
      ],
      "text/plain": [
       "                                            job_title  \\\n",
       "94  Research Engineering Scientist Associate III, ...   \n",
       "95  Senior Software Engineer - Artificial Intellig...   \n",
       "96       AVMaps Workflow Technical Lead Manager / TLM   \n",
       "97                 Software Engineer (Infrastructure)   \n",
       "98  Sr. Analytics Consultant – BI & Big Data Scrum...   \n",
       "\n",
       "                     company_name  \\\n",
       "94  University of Texas at Austin   \n",
       "95           Redhorse Corporation   \n",
       "96                           Uber   \n",
       "97                       Facebook   \n",
       "98                            EXL   \n",
       "\n",
       "                                             location  \\\n",
       "94                                         Austin, TX   \n",
       "95                                 Carnegie, PA 15106   \n",
       "96  Pittsburgh, PA 15201 (Central Lawrenceville area)   \n",
       "97                                     Pittsburgh, PA   \n",
       "98                                     Pittsburgh, PA   \n",
       "\n",
       "                                      salary  avg_salary  salary_binary  \n",
       "94                            $55,000 a year     55000.0              0  \n",
       "95  $102,000 - $136,000 a year (Indeed est.)    119000.0              1  \n",
       "96  $106,000 - $157,000 a year (Indeed est.)    131500.0              1  \n",
       "97   $94,000 - $141,000 a year (Indeed est.)    117500.0              1  \n",
       "98  $101,000 - $152,000 a year (Indeed est.)    126500.0              1  "
      ]
     },
     "execution_count": 57,
     "metadata": {},
     "output_type": "execute_result"
    }
   ],
   "source": [
    "new_df.tail()"
   ]
  },
  {
   "cell_type": "code",
   "execution_count": 58,
   "metadata": {},
   "outputs": [
    {
     "data": {
      "text/plain": [
       "0    50\n",
       "1    49\n",
       "Name: salary_binary, dtype: int64"
      ]
     },
     "execution_count": 58,
     "metadata": {},
     "output_type": "execute_result"
    }
   ],
   "source": [
    "new_df[\"salary_binary\"].value_counts()"
   ]
  },
  {
   "cell_type": "markdown",
   "metadata": {
    "focus": false,
    "id": "a7afb2c0-d41e-4779-8216-91cd8dd4473f"
   },
   "source": [
    "#### Thought experiment: What is the baseline accuracy for this model?"
   ]
  },
  {
   "cell_type": "code",
   "execution_count": 59,
   "metadata": {},
   "outputs": [
    {
     "data": {
      "text/plain": [
       "0.505050505050505"
      ]
     },
     "execution_count": 59,
     "metadata": {},
     "output_type": "execute_result"
    }
   ],
   "source": [
    "(1- np.mean(new_df['salary_binary']))"
   ]
  },
  {
   "cell_type": "markdown",
   "metadata": {
    "focus": false,
    "id": "4fb29de2-5b98-474c-a4ad-5170b72b9aea"
   },
   "source": [
    "### Create a classification model to predict High/Low salary. \n",
    "\n",
    "\n",
    "#### Model based on location:\n",
    "\n",
    "- Start by ONLY using the location as a feature. \n",
    "- Use logistic regression with both statsmodels and sklearn.\n",
    "- Use a further classifier you find suitable.\n",
    "- Remember that scaling your features might be necessary.\n",
    "- Display the coefficients/feature importances and write a short summary of what they mean.\n",
    "\n",
    "#### Model taking into account job levels and categories:\n",
    "\n",
    "- Create a few new variables in your dataframe to represent interesting features of a job title.\n",
    "- For example, create a feature that represents whether 'Senior' is in the title or whether 'Manager' is in the title. \n",
    "- Incorporate other text features from the title or summary that you believe will predict the salary.\n",
    "- Then build new classification models including also those features. Do they add any value? \n",
    "- Tune your models by testing parameter ranges, regularization strengths, etc. Discuss how that affects your models. \n",
    "- Discuss model coefficients or feature importances as applicable.\n",
    "\n",
    "#### Model evaluation:\n",
    "\n",
    "Your boss would rather tell a client incorrectly that they would get a lower salary job than tell a client incorrectly that they would get a high salary job. Adjust one of your models to ease his mind, and explain what it is doing and any tradeoffs. \n",
    "\n",
    "\n",
    "- Use cross-validation to evaluate your models. \n",
    "- Evaluate the accuracy, AUC, precision and recall of the models. \n",
    "- Plot the ROC and precision-recall curves for at least one of your models.\n",
    "\n",
    "#### Bonus:\n",
    "\n",
    "- Answer the salary discussion by using your model to explain the tradeoffs between detecting high vs low salary positions. \n",
    "- Discuss the differences and explain when you want a high-recall or a high-precision model in this scenario.\n",
    "- Obtain the ROC/precision-recall curves for the different models you studied (at least the tuned model of each category) and compare."
   ]
  },
  {
   "cell_type": "code",
   "execution_count": 60,
   "metadata": {},
   "outputs": [],
   "source": [
    "# remove numbers from location\n",
    "new_df.loc[:,'location'] = new_df.loc[:,'location'].str.replace('\\d+', '')"
   ]
  },
  {
   "cell_type": "code",
   "execution_count": 61,
   "metadata": {},
   "outputs": [],
   "source": [
    "#keeping just cities in location col\n",
    "new_df.loc[:,'location'] = new_df[\"location\"].apply((lambda x: x.split(\",\")[0]))"
   ]
  },
  {
   "cell_type": "code",
   "execution_count": 62,
   "metadata": {},
   "outputs": [
    {
     "data": {
      "text/plain": [
       "0    Marina del Rey\n",
       "1        Northridge\n",
       "2       Los Angeles\n",
       "3          Glendale\n",
       "4           Burbank\n",
       "Name: location, dtype: object"
      ]
     },
     "execution_count": 62,
     "metadata": {},
     "output_type": "execute_result"
    }
   ],
   "source": [
    "new_df['location'].head()"
   ]
  },
  {
   "cell_type": "code",
   "execution_count": 63,
   "metadata": {},
   "outputs": [
    {
     "data": {
      "text/html": [
       "<div>\n",
       "<style scoped>\n",
       "    .dataframe tbody tr th:only-of-type {\n",
       "        vertical-align: middle;\n",
       "    }\n",
       "\n",
       "    .dataframe tbody tr th {\n",
       "        vertical-align: top;\n",
       "    }\n",
       "\n",
       "    .dataframe thead th {\n",
       "        text-align: right;\n",
       "    }\n",
       "</style>\n",
       "<table border=\"1\" class=\"dataframe\">\n",
       "  <thead>\n",
       "    <tr style=\"text-align: right;\">\n",
       "      <th></th>\n",
       "      <th>job_title</th>\n",
       "      <th>company_name</th>\n",
       "      <th>location</th>\n",
       "      <th>salary</th>\n",
       "      <th>avg_salary</th>\n",
       "      <th>salary_binary</th>\n",
       "    </tr>\n",
       "  </thead>\n",
       "  <tbody>\n",
       "    <tr>\n",
       "      <th>0</th>\n",
       "      <td>Data Scientist</td>\n",
       "      <td>Dollar Shave Club</td>\n",
       "      <td>Marina del Rey</td>\n",
       "      <td>$101,000 - $148,000 a year (Indeed est.)</td>\n",
       "      <td>124500.0</td>\n",
       "      <td>1</td>\n",
       "    </tr>\n",
       "    <tr>\n",
       "      <th>1</th>\n",
       "      <td>Staff Data Scientist</td>\n",
       "      <td>Areté Associates</td>\n",
       "      <td>Northridge</td>\n",
       "      <td>$95,000 - $140,000 a year (Indeed est.)</td>\n",
       "      <td>117500.0</td>\n",
       "      <td>1</td>\n",
       "    </tr>\n",
       "    <tr>\n",
       "      <th>2</th>\n",
       "      <td>NLP Data Scientist</td>\n",
       "      <td>Albert</td>\n",
       "      <td>Los Angeles</td>\n",
       "      <td>$113,000 - $166,000 a year (Indeed est.)</td>\n",
       "      <td>139500.0</td>\n",
       "      <td>1</td>\n",
       "    </tr>\n",
       "    <tr>\n",
       "      <th>3</th>\n",
       "      <td>Data Scientist - Healthcare</td>\n",
       "      <td>Beyond Limits</td>\n",
       "      <td>Glendale</td>\n",
       "      <td>$116,000 - $171,000 a year (Indeed est.)</td>\n",
       "      <td>143500.0</td>\n",
       "      <td>1</td>\n",
       "    </tr>\n",
       "    <tr>\n",
       "      <th>4</th>\n",
       "      <td>Data Scientist</td>\n",
       "      <td>Hearts and Science</td>\n",
       "      <td>Burbank</td>\n",
       "      <td>$86,000 - $127,000 a year (Indeed est.)</td>\n",
       "      <td>106500.0</td>\n",
       "      <td>1</td>\n",
       "    </tr>\n",
       "  </tbody>\n",
       "</table>\n",
       "</div>"
      ],
      "text/plain": [
       "                     job_title        company_name        location  \\\n",
       "0               Data Scientist   Dollar Shave Club  Marina del Rey   \n",
       "1         Staff Data Scientist    Areté Associates      Northridge   \n",
       "2           NLP Data Scientist              Albert     Los Angeles   \n",
       "3  Data Scientist - Healthcare       Beyond Limits        Glendale   \n",
       "4               Data Scientist  Hearts and Science         Burbank   \n",
       "\n",
       "                                     salary  avg_salary  salary_binary  \n",
       "0  $101,000 - $148,000 a year (Indeed est.)    124500.0              1  \n",
       "1   $95,000 - $140,000 a year (Indeed est.)    117500.0              1  \n",
       "2  $113,000 - $166,000 a year (Indeed est.)    139500.0              1  \n",
       "3  $116,000 - $171,000 a year (Indeed est.)    143500.0              1  \n",
       "4   $86,000 - $127,000 a year (Indeed est.)    106500.0              1  "
      ]
     },
     "execution_count": 63,
     "metadata": {},
     "output_type": "execute_result"
    }
   ],
   "source": [
    "new_df.head()"
   ]
  },
  {
   "cell_type": "markdown",
   "metadata": {},
   "source": [
    "### Modeling"
   ]
  },
  {
   "cell_type": "code",
   "execution_count": 64,
   "metadata": {},
   "outputs": [],
   "source": [
    "from sklearn.linear_model import LogisticRegression\n",
    "import statsmodels.api as sm\n",
    "from sklearn.model_selection import cross_val_score\n",
    "from sklearn.model_selection import cross_val_predict\n",
    "from sklearn.metrics import average_precision_score\n",
    "from sklearn import metrics\n",
    "from sklearn.metrics import precision_recall_curve, accuracy_score, roc_auc_score, confusion_matrix, classification_report\n",
    "import matplotlib.pyplot as plt\n",
    "from sklearn.utils.fixes import signature"
   ]
  },
  {
   "cell_type": "code",
   "execution_count": 65,
   "metadata": {
    "focus": false,
    "id": "068dc1cf-7fd7-4f27-a1f1-7f0a5a221d29"
   },
   "outputs": [],
   "source": [
    "## YOUR CODE HERE\n",
    "\n",
    "y = new_df['salary_binary']\n",
    "X = new_df[['location']]\n",
    "X_dummy = pd.get_dummies(X)\n",
    "\n",
    "# converting X to dummies varubal\n",
    "# X_dumm = pd.get_dummies(X)"
   ]
  },
  {
   "cell_type": "code",
   "execution_count": 66,
   "metadata": {},
   "outputs": [
    {
     "data": {
      "text/plain": [
       "(99, 1)"
      ]
     },
     "execution_count": 66,
     "metadata": {},
     "output_type": "execute_result"
    }
   ],
   "source": [
    "X.shape"
   ]
  },
  {
   "cell_type": "code",
   "execution_count": 67,
   "metadata": {},
   "outputs": [
    {
     "data": {
      "text/html": [
       "<div>\n",
       "<style scoped>\n",
       "    .dataframe tbody tr th:only-of-type {\n",
       "        vertical-align: middle;\n",
       "    }\n",
       "\n",
       "    .dataframe tbody tr th {\n",
       "        vertical-align: top;\n",
       "    }\n",
       "\n",
       "    .dataframe thead th {\n",
       "        text-align: right;\n",
       "    }\n",
       "</style>\n",
       "<table border=\"1\" class=\"dataframe\">\n",
       "  <thead>\n",
       "    <tr style=\"text-align: right;\">\n",
       "      <th></th>\n",
       "      <th>location_Atlanta</th>\n",
       "      <th>location_Aurora</th>\n",
       "      <th>location_Austin</th>\n",
       "      <th>location_Boulder</th>\n",
       "      <th>location_Broomfield</th>\n",
       "      <th>location_Burbank</th>\n",
       "      <th>location_Carnegie</th>\n",
       "      <th>location_Chicago</th>\n",
       "      <th>location_Dallas</th>\n",
       "      <th>location_Denver</th>\n",
       "      <th>...</th>\n",
       "      <th>location_New York</th>\n",
       "      <th>location_Northridge</th>\n",
       "      <th>location_Painted Post</th>\n",
       "      <th>location_Philadelphia</th>\n",
       "      <th>location_Phoenix</th>\n",
       "      <th>location_Pittsburgh</th>\n",
       "      <th>location_Portland</th>\n",
       "      <th>location_Queens</th>\n",
       "      <th>location_San Francisco</th>\n",
       "      <th>location_Tempe</th>\n",
       "    </tr>\n",
       "  </thead>\n",
       "  <tbody>\n",
       "    <tr>\n",
       "      <th>0</th>\n",
       "      <td>0</td>\n",
       "      <td>0</td>\n",
       "      <td>0</td>\n",
       "      <td>0</td>\n",
       "      <td>0</td>\n",
       "      <td>0</td>\n",
       "      <td>0</td>\n",
       "      <td>0</td>\n",
       "      <td>0</td>\n",
       "      <td>0</td>\n",
       "      <td>...</td>\n",
       "      <td>0</td>\n",
       "      <td>0</td>\n",
       "      <td>0</td>\n",
       "      <td>0</td>\n",
       "      <td>0</td>\n",
       "      <td>0</td>\n",
       "      <td>0</td>\n",
       "      <td>0</td>\n",
       "      <td>0</td>\n",
       "      <td>0</td>\n",
       "    </tr>\n",
       "    <tr>\n",
       "      <th>1</th>\n",
       "      <td>0</td>\n",
       "      <td>0</td>\n",
       "      <td>0</td>\n",
       "      <td>0</td>\n",
       "      <td>0</td>\n",
       "      <td>0</td>\n",
       "      <td>0</td>\n",
       "      <td>0</td>\n",
       "      <td>0</td>\n",
       "      <td>0</td>\n",
       "      <td>...</td>\n",
       "      <td>0</td>\n",
       "      <td>1</td>\n",
       "      <td>0</td>\n",
       "      <td>0</td>\n",
       "      <td>0</td>\n",
       "      <td>0</td>\n",
       "      <td>0</td>\n",
       "      <td>0</td>\n",
       "      <td>0</td>\n",
       "      <td>0</td>\n",
       "    </tr>\n",
       "    <tr>\n",
       "      <th>2</th>\n",
       "      <td>0</td>\n",
       "      <td>0</td>\n",
       "      <td>0</td>\n",
       "      <td>0</td>\n",
       "      <td>0</td>\n",
       "      <td>0</td>\n",
       "      <td>0</td>\n",
       "      <td>0</td>\n",
       "      <td>0</td>\n",
       "      <td>0</td>\n",
       "      <td>...</td>\n",
       "      <td>0</td>\n",
       "      <td>0</td>\n",
       "      <td>0</td>\n",
       "      <td>0</td>\n",
       "      <td>0</td>\n",
       "      <td>0</td>\n",
       "      <td>0</td>\n",
       "      <td>0</td>\n",
       "      <td>0</td>\n",
       "      <td>0</td>\n",
       "    </tr>\n",
       "    <tr>\n",
       "      <th>3</th>\n",
       "      <td>0</td>\n",
       "      <td>0</td>\n",
       "      <td>0</td>\n",
       "      <td>0</td>\n",
       "      <td>0</td>\n",
       "      <td>0</td>\n",
       "      <td>0</td>\n",
       "      <td>0</td>\n",
       "      <td>0</td>\n",
       "      <td>0</td>\n",
       "      <td>...</td>\n",
       "      <td>0</td>\n",
       "      <td>0</td>\n",
       "      <td>0</td>\n",
       "      <td>0</td>\n",
       "      <td>0</td>\n",
       "      <td>0</td>\n",
       "      <td>0</td>\n",
       "      <td>0</td>\n",
       "      <td>0</td>\n",
       "      <td>0</td>\n",
       "    </tr>\n",
       "    <tr>\n",
       "      <th>4</th>\n",
       "      <td>0</td>\n",
       "      <td>0</td>\n",
       "      <td>0</td>\n",
       "      <td>0</td>\n",
       "      <td>0</td>\n",
       "      <td>1</td>\n",
       "      <td>0</td>\n",
       "      <td>0</td>\n",
       "      <td>0</td>\n",
       "      <td>0</td>\n",
       "      <td>...</td>\n",
       "      <td>0</td>\n",
       "      <td>0</td>\n",
       "      <td>0</td>\n",
       "      <td>0</td>\n",
       "      <td>0</td>\n",
       "      <td>0</td>\n",
       "      <td>0</td>\n",
       "      <td>0</td>\n",
       "      <td>0</td>\n",
       "      <td>0</td>\n",
       "    </tr>\n",
       "  </tbody>\n",
       "</table>\n",
       "<p>5 rows × 30 columns</p>\n",
       "</div>"
      ],
      "text/plain": [
       "   location_Atlanta  location_Aurora  location_Austin  location_Boulder  \\\n",
       "0                 0                0                0                 0   \n",
       "1                 0                0                0                 0   \n",
       "2                 0                0                0                 0   \n",
       "3                 0                0                0                 0   \n",
       "4                 0                0                0                 0   \n",
       "\n",
       "   location_Broomfield  location_Burbank  location_Carnegie  location_Chicago  \\\n",
       "0                    0                 0                  0                 0   \n",
       "1                    0                 0                  0                 0   \n",
       "2                    0                 0                  0                 0   \n",
       "3                    0                 0                  0                 0   \n",
       "4                    0                 1                  0                 0   \n",
       "\n",
       "   location_Dallas  location_Denver       ...        location_New York  \\\n",
       "0                0                0       ...                        0   \n",
       "1                0                0       ...                        0   \n",
       "2                0                0       ...                        0   \n",
       "3                0                0       ...                        0   \n",
       "4                0                0       ...                        0   \n",
       "\n",
       "   location_Northridge  location_Painted Post  location_Philadelphia  \\\n",
       "0                    0                      0                      0   \n",
       "1                    1                      0                      0   \n",
       "2                    0                      0                      0   \n",
       "3                    0                      0                      0   \n",
       "4                    0                      0                      0   \n",
       "\n",
       "   location_Phoenix  location_Pittsburgh  location_Portland  location_Queens  \\\n",
       "0                 0                    0                  0                0   \n",
       "1                 0                    0                  0                0   \n",
       "2                 0                    0                  0                0   \n",
       "3                 0                    0                  0                0   \n",
       "4                 0                    0                  0                0   \n",
       "\n",
       "   location_San Francisco  location_Tempe  \n",
       "0                       0               0  \n",
       "1                       0               0  \n",
       "2                       0               0  \n",
       "3                       0               0  \n",
       "4                       0               0  \n",
       "\n",
       "[5 rows x 30 columns]"
      ]
     },
     "execution_count": 67,
     "metadata": {},
     "output_type": "execute_result"
    }
   ],
   "source": [
    "X_dummy.head()"
   ]
  },
  {
   "cell_type": "markdown",
   "metadata": {},
   "source": [
    "#### Logistic Regression with one feature *(location)*"
   ]
  },
  {
   "cell_type": "code",
   "execution_count": 68,
   "metadata": {},
   "outputs": [],
   "source": [
    "lg = LogisticRegression(random_state=0, solver='lbfgs',\n",
    "                          multi_class='multinomial').fit(X_dummy, y)"
   ]
  },
  {
   "cell_type": "code",
   "execution_count": 69,
   "metadata": {},
   "outputs": [
    {
     "name": "stdout",
     "output_type": "stream",
     "text": [
      "Cross val score: 0.5847368421052632\n",
      "Score: 0.8282828282828283\n"
     ]
    }
   ],
   "source": [
    "print('Cross val score:', cross_val_score(lg, X_dummy, y, cv=5).mean()) \n",
    "print('Score:', lg.score( X_dummy, y)) "
   ]
  },
  {
   "cell_type": "code",
   "execution_count": 70,
   "metadata": {},
   "outputs": [
    {
     "data": {
      "text/plain": [
       "array([[-0.00422364, -0.3400195 , -0.15091952, -0.74540199,  0.33482161,\n",
       "         0.33482161,  0.33482161,  0.6611381 , -0.5249743 ,  0.52833931,\n",
       "        -0.5249743 , -0.3400195 , -0.20660071, -0.8853823 ,  0.33482161,\n",
       "        -0.20660071, -0.20660071,  0.33482161, -0.3400195 ,  0.33482161,\n",
       "         0.24777493,  0.33482161,  0.33482161, -0.3400195 , -0.42475063,\n",
       "         0.64200258, -0.4891964 , -0.3400195 ,  0.97749266,  0.33482161]])"
      ]
     },
     "execution_count": 70,
     "metadata": {},
     "output_type": "execute_result"
    }
   ],
   "source": [
    "lg.coef_"
   ]
  },
  {
   "cell_type": "code",
   "execution_count": 71,
   "metadata": {},
   "outputs": [],
   "source": [
    "y_predict_lg= lg.predict(X_dummy)"
   ]
  },
  {
   "cell_type": "code",
   "execution_count": 72,
   "metadata": {},
   "outputs": [
    {
     "name": "stdout",
     "output_type": "stream",
     "text": [
      "Warning: Maximum number of iterations has been exceeded.\n",
      "         Current function value: 0.347183\n",
      "         Iterations: 35\n",
      "         Function evaluations: 38\n",
      "         Gradient evaluations: 38\n"
     ]
    },
    {
     "name": "stderr",
     "output_type": "stream",
     "text": [
      "/anaconda3/lib/python3.7/site-packages/statsmodels/base/model.py:508: ConvergenceWarning: Maximum Likelihood optimization failed to converge. Check mle_retvals\n",
      "  \"Check mle_retvals\", ConvergenceWarning)\n"
     ]
    },
    {
     "data": {
      "text/html": [
       "<table class=\"simpletable\">\n",
       "<caption>Logit Regression Results</caption>\n",
       "<tr>\n",
       "  <th>Dep. Variable:</th>   <td>salary_binary</td>  <th>  No. Observations:  </th>  <td>    99</td>  \n",
       "</tr>\n",
       "<tr>\n",
       "  <th>Model:</th>               <td>Logit</td>      <th>  Df Residuals:      </th>  <td>    69</td>  \n",
       "</tr>\n",
       "<tr>\n",
       "  <th>Method:</th>               <td>MLE</td>       <th>  Df Model:          </th>  <td>    29</td>  \n",
       "</tr>\n",
       "<tr>\n",
       "  <th>Date:</th>          <td>Tue, 22 Jan 2019</td> <th>  Pseudo R-squ.:     </th>  <td>0.4991</td>  \n",
       "</tr>\n",
       "<tr>\n",
       "  <th>Time:</th>              <td>17:12:58</td>     <th>  Log-Likelihood:    </th> <td> -34.371</td> \n",
       "</tr>\n",
       "<tr>\n",
       "  <th>converged:</th>           <td>False</td>      <th>  LL-Null:           </th> <td> -68.617</td> \n",
       "</tr>\n",
       "<tr>\n",
       "  <th> </th>                      <td> </td>        <th>  LLR p-value:       </th> <td>4.864e-05</td>\n",
       "</tr>\n",
       "</table>\n",
       "<table class=\"simpletable\">\n",
       "<tr>\n",
       "              <td></td>                <th>coef</th>     <th>std err</th>      <th>z</th>      <th>P>|z|</th>  <th>[0.025</th>    <th>0.975]</th>  \n",
       "</tr>\n",
       "<tr>\n",
       "  <th>location_Atlanta</th>         <td>         0</td> <td>    1.414</td> <td>        0</td> <td> 1.000</td> <td>   -2.772</td> <td>    2.772</td>\n",
       "</tr>\n",
       "<tr>\n",
       "  <th>location_Aurora</th>          <td>   -4.1513</td> <td>    8.095</td> <td>   -0.513</td> <td> 0.608</td> <td>  -20.017</td> <td>   11.715</td>\n",
       "</tr>\n",
       "<tr>\n",
       "  <th>location_Austin</th>          <td>   -0.4006</td> <td>    0.589</td> <td>   -0.680</td> <td> 0.496</td> <td>   -1.555</td> <td>    0.754</td>\n",
       "</tr>\n",
       "<tr>\n",
       "  <th>location_Boulder</th>         <td>   -8.3846</td> <td>   33.094</td> <td>   -0.253</td> <td> 0.800</td> <td>  -73.248</td> <td>   56.479</td>\n",
       "</tr>\n",
       "<tr>\n",
       "  <th>location_Broomfield</th>      <td>    4.1513</td> <td>    8.095</td> <td>    0.513</td> <td> 0.608</td> <td>  -11.715</td> <td>   20.017</td>\n",
       "</tr>\n",
       "<tr>\n",
       "  <th>location_Burbank</th>         <td>    4.1513</td> <td>    8.095</td> <td>    0.513</td> <td> 0.608</td> <td>  -11.715</td> <td>   20.017</td>\n",
       "</tr>\n",
       "<tr>\n",
       "  <th>location_Carnegie</th>        <td>    4.1513</td> <td>    8.095</td> <td>    0.513</td> <td> 0.608</td> <td>  -11.715</td> <td>   20.017</td>\n",
       "</tr>\n",
       "<tr>\n",
       "  <th>location_Chicago</th>         <td>    1.7473</td> <td>    0.995</td> <td>    1.757</td> <td> 0.079</td> <td>   -0.202</td> <td>    3.697</td>\n",
       "</tr>\n",
       "<tr>\n",
       "  <th>location_Dallas</th>          <td>   -6.1998</td> <td>   15.726</td> <td>   -0.394</td> <td> 0.693</td> <td>  -37.023</td> <td>   24.623</td>\n",
       "</tr>\n",
       "<tr>\n",
       "  <th>location_Denver</th>          <td>    1.5643</td> <td>    1.079</td> <td>    1.449</td> <td> 0.147</td> <td>   -0.551</td> <td>    3.680</td>\n",
       "</tr>\n",
       "<tr>\n",
       "  <th>location_Duluth</th>          <td>   -6.1998</td> <td>   15.726</td> <td>   -0.394</td> <td> 0.693</td> <td>  -37.023</td> <td>   24.623</td>\n",
       "</tr>\n",
       "<tr>\n",
       "  <th>location_Fort Lauderdale</th> <td>   -4.1513</td> <td>    8.095</td> <td>   -0.513</td> <td> 0.608</td> <td>  -20.017</td> <td>   11.715</td>\n",
       "</tr>\n",
       "<tr>\n",
       "  <th>location_Glendale</th>        <td>   -0.8952</td> <td>    1.272</td> <td>   -0.704</td> <td> 0.482</td> <td>   -3.389</td> <td>    1.598</td>\n",
       "</tr>\n",
       "<tr>\n",
       "  <th>location_Houston</th>         <td>   -9.8539</td> <td>   56.324</td> <td>   -0.175</td> <td> 0.861</td> <td> -120.247</td> <td>  100.539</td>\n",
       "</tr>\n",
       "<tr>\n",
       "  <th>location_Irving</th>          <td>    4.1513</td> <td>    8.095</td> <td>    0.513</td> <td> 0.608</td> <td>  -11.715</td> <td>   20.017</td>\n",
       "</tr>\n",
       "<tr>\n",
       "  <th>location_Los Angeles</th>     <td>   -0.8952</td> <td>    1.272</td> <td>   -0.704</td> <td> 0.482</td> <td>   -3.389</td> <td>    1.598</td>\n",
       "</tr>\n",
       "<tr>\n",
       "  <th>location_Manhattan</th>       <td>   -0.8952</td> <td>    1.272</td> <td>   -0.704</td> <td> 0.482</td> <td>   -3.389</td> <td>    1.598</td>\n",
       "</tr>\n",
       "<tr>\n",
       "  <th>location_Marina del Rey</th>  <td>    4.1513</td> <td>    8.095</td> <td>    0.513</td> <td> 0.608</td> <td>  -11.715</td> <td>   20.017</td>\n",
       "</tr>\n",
       "<tr>\n",
       "  <th>location_Miami</th>           <td>   -4.1513</td> <td>    8.095</td> <td>   -0.513</td> <td> 0.608</td> <td>  -20.017</td> <td>   11.715</td>\n",
       "</tr>\n",
       "<tr>\n",
       "  <th>location_Mount Laurel</th>    <td>    4.1513</td> <td>    8.095</td> <td>    0.513</td> <td> 0.608</td> <td>  -11.715</td> <td>   20.017</td>\n",
       "</tr>\n",
       "<tr>\n",
       "  <th>location_New York</th>        <td>    0.5889</td> <td>    0.852</td> <td>    0.691</td> <td> 0.490</td> <td>   -1.081</td> <td>    2.259</td>\n",
       "</tr>\n",
       "<tr>\n",
       "  <th>location_Northridge</th>      <td>    4.1513</td> <td>    8.095</td> <td>    0.513</td> <td> 0.608</td> <td>  -11.715</td> <td>   20.017</td>\n",
       "</tr>\n",
       "<tr>\n",
       "  <th>location_Painted Post</th>    <td>    4.1513</td> <td>    8.095</td> <td>    0.513</td> <td> 0.608</td> <td>  -11.715</td> <td>   20.017</td>\n",
       "</tr>\n",
       "<tr>\n",
       "  <th>location_Philadelphia</th>    <td>   -4.1513</td> <td>    8.095</td> <td>   -0.513</td> <td> 0.608</td> <td>  -20.017</td> <td>   11.715</td>\n",
       "</tr>\n",
       "<tr>\n",
       "  <th>location_Phoenix</th>         <td>   -1.0848</td> <td>    0.814</td> <td>   -1.333</td> <td> 0.182</td> <td>   -2.680</td> <td>    0.510</td>\n",
       "</tr>\n",
       "<tr>\n",
       "  <th>location_Pittsburgh</th>      <td>    7.4820</td> <td>   24.344</td> <td>    0.307</td> <td> 0.759</td> <td>  -40.231</td> <td>   55.195</td>\n",
       "</tr>\n",
       "<tr>\n",
       "  <th>location_Portland</th>        <td>   -1.2898</td> <td>    0.810</td> <td>   -1.592</td> <td> 0.111</td> <td>   -2.878</td> <td>    0.298</td>\n",
       "</tr>\n",
       "<tr>\n",
       "  <th>location_Queens</th>          <td>   -4.1513</td> <td>    8.095</td> <td>   -0.513</td> <td> 0.608</td> <td>  -20.017</td> <td>   11.715</td>\n",
       "</tr>\n",
       "<tr>\n",
       "  <th>location_San Francisco</th>   <td>   11.4753</td> <td>  109.721</td> <td>    0.105</td> <td> 0.917</td> <td> -203.573</td> <td>  226.524</td>\n",
       "</tr>\n",
       "<tr>\n",
       "  <th>location_Tempe</th>           <td>    4.1513</td> <td>    8.095</td> <td>    0.513</td> <td> 0.608</td> <td>  -11.715</td> <td>   20.017</td>\n",
       "</tr>\n",
       "</table><br/><br/>Possibly complete quasi-separation: A fraction 0.14 of observations can be<br/>perfectly predicted. This might indicate that there is complete<br/>quasi-separation. In this case some parameters will not be identified."
      ],
      "text/plain": [
       "<class 'statsmodels.iolib.summary.Summary'>\n",
       "\"\"\"\n",
       "                           Logit Regression Results                           \n",
       "==============================================================================\n",
       "Dep. Variable:          salary_binary   No. Observations:                   99\n",
       "Model:                          Logit   Df Residuals:                       69\n",
       "Method:                           MLE   Df Model:                           29\n",
       "Date:                Tue, 22 Jan 2019   Pseudo R-squ.:                  0.4991\n",
       "Time:                        17:12:58   Log-Likelihood:                -34.371\n",
       "converged:                      False   LL-Null:                       -68.617\n",
       "                                        LLR p-value:                 4.864e-05\n",
       "============================================================================================\n",
       "                               coef    std err          z      P>|z|      [0.025      0.975]\n",
       "--------------------------------------------------------------------------------------------\n",
       "location_Atlanta                  0      1.414          0      1.000      -2.772       2.772\n",
       "location_Aurora             -4.1513      8.095     -0.513      0.608     -20.017      11.715\n",
       "location_Austin             -0.4006      0.589     -0.680      0.496      -1.555       0.754\n",
       "location_Boulder            -8.3846     33.094     -0.253      0.800     -73.248      56.479\n",
       "location_Broomfield          4.1513      8.095      0.513      0.608     -11.715      20.017\n",
       "location_Burbank             4.1513      8.095      0.513      0.608     -11.715      20.017\n",
       "location_Carnegie            4.1513      8.095      0.513      0.608     -11.715      20.017\n",
       "location_Chicago             1.7473      0.995      1.757      0.079      -0.202       3.697\n",
       "location_Dallas             -6.1998     15.726     -0.394      0.693     -37.023      24.623\n",
       "location_Denver              1.5643      1.079      1.449      0.147      -0.551       3.680\n",
       "location_Duluth             -6.1998     15.726     -0.394      0.693     -37.023      24.623\n",
       "location_Fort Lauderdale    -4.1513      8.095     -0.513      0.608     -20.017      11.715\n",
       "location_Glendale           -0.8952      1.272     -0.704      0.482      -3.389       1.598\n",
       "location_Houston            -9.8539     56.324     -0.175      0.861    -120.247     100.539\n",
       "location_Irving              4.1513      8.095      0.513      0.608     -11.715      20.017\n",
       "location_Los Angeles        -0.8952      1.272     -0.704      0.482      -3.389       1.598\n",
       "location_Manhattan          -0.8952      1.272     -0.704      0.482      -3.389       1.598\n",
       "location_Marina del Rey      4.1513      8.095      0.513      0.608     -11.715      20.017\n",
       "location_Miami              -4.1513      8.095     -0.513      0.608     -20.017      11.715\n",
       "location_Mount Laurel        4.1513      8.095      0.513      0.608     -11.715      20.017\n",
       "location_New York            0.5889      0.852      0.691      0.490      -1.081       2.259\n",
       "location_Northridge          4.1513      8.095      0.513      0.608     -11.715      20.017\n",
       "location_Painted Post        4.1513      8.095      0.513      0.608     -11.715      20.017\n",
       "location_Philadelphia       -4.1513      8.095     -0.513      0.608     -20.017      11.715\n",
       "location_Phoenix            -1.0848      0.814     -1.333      0.182      -2.680       0.510\n",
       "location_Pittsburgh          7.4820     24.344      0.307      0.759     -40.231      55.195\n",
       "location_Portland           -1.2898      0.810     -1.592      0.111      -2.878       0.298\n",
       "location_Queens             -4.1513      8.095     -0.513      0.608     -20.017      11.715\n",
       "location_San Francisco      11.4753    109.721      0.105      0.917    -203.573     226.524\n",
       "location_Tempe               4.1513      8.095      0.513      0.608     -11.715      20.017\n",
       "============================================================================================\n",
       "\n",
       "Possibly complete quasi-separation: A fraction 0.14 of observations can be\n",
       "perfectly predicted. This might indicate that there is complete\n",
       "quasi-separation. In this case some parameters will not be identified.\n",
       "\"\"\""
      ]
     },
     "execution_count": 72,
     "metadata": {},
     "output_type": "execute_result"
    }
   ],
   "source": [
    "# Create a Logistic Regression model to predict High/Low salary using statsmodel\n",
    "from sklearn.linear_model import LogisticRegression\n",
    "import statsmodels.api as sm\n",
    "\n",
    "sm_model = sm.Logit(y, X_dummy)\n",
    "sm_model_result = sm_model.fit(method='bfgs') \n",
    "sm_model_result.summary()"
   ]
  },
  {
   "cell_type": "markdown",
   "metadata": {},
   "source": [
    "###### The negative coefficients here are associated with cities that are more likely to have *LOW* salaries, and positive coeficients are associated with cities that are more likely to have *HIGH* salaries."
   ]
  },
  {
   "cell_type": "markdown",
   "metadata": {},
   "source": [
    "#### Summarizing the results "
   ]
  },
  {
   "cell_type": "code",
   "execution_count": 73,
   "metadata": {},
   "outputs": [
    {
     "name": "stdout",
     "output_type": "stream",
     "text": [
      "0.8282828282828283\n",
      "0.8275510204081633\n",
      "[[45  5]\n",
      " [12 37]]\n",
      "             precision    recall  f1-score   support\n",
      "\n",
      "          0       0.79      0.90      0.84        50\n",
      "          1       0.88      0.76      0.81        49\n",
      "\n",
      "avg / total       0.83      0.83      0.83        99\n",
      "\n"
     ]
    }
   ],
   "source": [
    "print(accuracy_score(y, y_predict_lg))\n",
    "print(roc_auc_score(y, y_predict_lg))\n",
    "print(confusion_matrix(y, y_predict_lg))\n",
    "print(classification_report(y, y_predict_lg))"
   ]
  },
  {
   "cell_type": "code",
   "execution_count": 74,
   "metadata": {},
   "outputs": [
    {
     "data": {
      "image/png": "[encoded data removed]",
      "text/plain": [
       "<Figure size 432x288 with 1 Axes>"
      ]
     },
     "metadata": {
      "needs_background": "light"
     },
     "output_type": "display_data"
    }
   ],
   "source": [
    "#plotting roc curve for logistic regression\n",
    "y_pred_proba_lg = lg.predict_proba(X_dummy)[::,1]\n",
    "fpr, tpr, _ = metrics.roc_curve(y,  y_pred_proba_lg)\n",
    "auc = roc_auc_score(y, y_pred_proba_lg)\n",
    "plt.plot(fpr,tpr,label=\"data 1, auc=\"+str(auc))\n",
    "plt.legend(loc=4)\n",
    "plt.show()"
   ]
  },
  {
   "cell_type": "code",
   "execution_count": 75,
   "metadata": {},
   "outputs": [
    {
     "data": {
      "text/plain": [
       "Text(0.5,1,'2-class Precision-Recall curve: AP={0:0.2f}')"
      ]
     },
     "execution_count": 75,
     "metadata": {},
     "output_type": "execute_result"
    },
    {
     "data": {
      "image/png": "[encoded data removed]",
      "text/plain": [
       "<Figure size 432x288 with 1 Axes>"
      ]
     },
     "metadata": {
      "needs_background": "light"
     },
     "output_type": "display_data"
    }
   ],
   "source": [
    "#plotting precison call for random forest model\n",
    "\n",
    "\n",
    "# y_score_rf = rf.decision_function(X_test)\n",
    "precision, recall, _ = precision_recall_curve(y, y_predict_lg)\n",
    "\n",
    "# In matplotlib < 1.5, plt.fill_between does not have a 'step' argument\n",
    "step_kwargs = ({'step': 'post'}\n",
    "               if 'step' in signature(plt.fill_between).parameters\n",
    "               else {})\n",
    "plt.step(recall, precision, color='b', alpha=0.2,\n",
    "         where='post')\n",
    "plt.fill_between(recall, precision, alpha=0.2, color='b', **step_kwargs)\n",
    "\n",
    "plt.xlabel('Recall')\n",
    "plt.ylabel('Precision')\n",
    "plt.ylim([0.0, 1.05])\n",
    "plt.xlim([0.0, 1.0])\n",
    "plt.title('2-class Precision-Recall curve: AP={0:0.2f}')"
   ]
  },
  {
   "cell_type": "code",
   "execution_count": 76,
   "metadata": {},
   "outputs": [
    {
     "data": {
      "text/plain": [
       "array([  0.43208876,  34.7848645 ,  15.4394526 ,  76.25653064,\n",
       "        34.25310707,  34.25310707,  34.25310707,  67.63611952,\n",
       "        53.70621441,  54.05046289,  53.70621441,  34.7848645 ,\n",
       "        21.13578111,  90.57687487,  34.25310707,  21.13578111,\n",
       "        21.13578111,  34.25310707,  34.7848645 ,  34.25310707,\n",
       "        25.34800885,  34.25310707,  34.25310707,  34.7848645 ,\n",
       "        43.45307645,  65.678507  ,  50.0460433 ,  34.7848645 ,\n",
       "       100.        ,  34.25310707])"
      ]
     },
     "execution_count": 76,
     "metadata": {},
     "output_type": "execute_result"
    }
   ],
   "source": [
    "feature_importance = abs(lg.coef_[0])\n",
    "feature_importance = 100.0 * (feature_importance / feature_importance.max())\n",
    "feature_importance"
   ]
  },
  {
   "cell_type": "markdown",
   "metadata": {},
   "source": [
    "#### Random Forest with one feature *(location)*"
   ]
  },
  {
   "cell_type": "code",
   "execution_count": 77,
   "metadata": {},
   "outputs": [
    {
     "data": {
      "text/plain": [
       "RandomForestClassifier(bootstrap=True, class_weight=None, criterion='gini',\n",
       "            max_depth=None, max_features='auto', max_leaf_nodes=None,\n",
       "            min_impurity_decrease=0.0, min_impurity_split=None,\n",
       "            min_samples_leaf=1, min_samples_split=2,\n",
       "            min_weight_fraction_leaf=0.0, n_estimators=300, n_jobs=1,\n",
       "            oob_score=False, random_state=90, verbose=0, warm_start=False)"
      ]
     },
     "execution_count": 77,
     "metadata": {},
     "output_type": "execute_result"
    }
   ],
   "source": [
    "from sklearn.ensemble import RandomForestClassifier\n",
    "rf = RandomForestClassifier(n_estimators=300, random_state=90)\n",
    "rf.fit(X_dummy, y)"
   ]
  },
  {
   "cell_type": "code",
   "execution_count": 78,
   "metadata": {},
   "outputs": [
    {
     "name": "stdout",
     "output_type": "stream",
     "text": [
      "Cross val score 0.5952631578947368\n",
      "Score: 0.8282828282828283\n"
     ]
    }
   ],
   "source": [
    "print('Cross val score', cross_val_score(rf, X_dummy, y, cv=5).mean())   \n",
    "print('Score:', rf.score(X_dummy, y)) "
   ]
  },
  {
   "cell_type": "code",
   "execution_count": 79,
   "metadata": {},
   "outputs": [],
   "source": [
    "y_predict_rf= rf.predict(X_dummy)"
   ]
  },
  {
   "cell_type": "markdown",
   "metadata": {},
   "source": [
    "#### Model evaluation & summary"
   ]
  },
  {
   "cell_type": "code",
   "execution_count": 80,
   "metadata": {},
   "outputs": [
    {
     "name": "stdout",
     "output_type": "stream",
     "text": [
      "0.8282828282828283\n",
      "0.8275510204081633\n",
      "[[45  5]\n",
      " [12 37]]\n",
      "             precision    recall  f1-score   support\n",
      "\n",
      "          0       0.79      0.90      0.84        50\n",
      "          1       0.88      0.76      0.81        49\n",
      "\n",
      "avg / total       0.83      0.83      0.83        99\n",
      "\n"
     ]
    }
   ],
   "source": [
    "print(metrics.accuracy_score(y, y_predict_rf))\n",
    "print(metrics.roc_auc_score(y, y_predict_rf))\n",
    "print(metrics.confusion_matrix(y, y_predict_rf))\n",
    "print(metrics.classification_report(y, y_predict_rf))"
   ]
  },
  {
   "cell_type": "code",
   "execution_count": 81,
   "metadata": {},
   "outputs": [
    {
     "data": {
      "image/png": "[encoded data removed]",
      "text/plain": [
       "<Figure size 432x288 with 1 Axes>"
      ]
     },
     "metadata": {
      "needs_background": "light"
     },
     "output_type": "display_data"
    }
   ],
   "source": [
    "#plotting roc curve for random forest model\n",
    "y_pred_proba_rf = rf.predict_proba(X_dummy)[::,1]\n",
    "fpr, tpr, _ = metrics.roc_curve(y,  y_pred_proba_rf)\n",
    "auc = metrics.roc_auc_score(y, y_pred_proba_rf)\n",
    "plt.plot(fpr,tpr,label=\"data 1, auc=\"+str(auc))\n",
    "plt.legend(loc=4)\n",
    "plt.show()"
   ]
  },
  {
   "cell_type": "code",
   "execution_count": 82,
   "metadata": {},
   "outputs": [
    {
     "data": {
      "text/plain": [
       "Text(0.5,1,'2-class Precision-Recall curve: AP={0:0.2f}')"
      ]
     },
     "execution_count": 82,
     "metadata": {},
     "output_type": "execute_result"
    },
    {
     "data": {
      "image/png": "[encoded data removed]",
      "text/plain": [
       "<Figure size 432x288 with 1 Axes>"
      ]
     },
     "metadata": {
      "needs_background": "light"
     },
     "output_type": "display_data"
    }
   ],
   "source": [
    "#plotting precison call for random forest model\n",
    "from sklearn.metrics import average_precision_score\n",
    "\n",
    "from sklearn.metrics import precision_recall_curve\n",
    "import matplotlib.pyplot as plt\n",
    "from sklearn.utils.fixes import signature\n",
    "\n",
    "# y_score_rf = rf.decision_function(X_test)\n",
    "precision, recall, _ = precision_recall_curve(y, y_predict_rf)\n",
    "\n",
    "# In matplotlib < 1.5, plt.fill_between does not have a 'step' argument\n",
    "step_kwargs = ({'step': 'post'}\n",
    "               if 'step' in signature(plt.fill_between).parameters\n",
    "               else {})\n",
    "plt.step(recall, precision, color='b', alpha=0.2,\n",
    "         where='post')\n",
    "plt.fill_between(recall, precision, alpha=0.2, color='b', **step_kwargs)\n",
    "\n",
    "plt.xlabel('Recall')\n",
    "plt.ylabel('Precision')\n",
    "plt.ylim([0.0, 1.05])\n",
    "plt.xlim([0.0, 1.0])\n",
    "plt.title('2-class Precision-Recall curve: AP={0:0.2f}')"
   ]
  },
  {
   "cell_type": "code",
   "execution_count": 83,
   "metadata": {},
   "outputs": [
    {
     "data": {
      "text/plain": [
       "array([ 11.10753282,  10.34086288,  19.27619459,  44.37566344,\n",
       "        14.18167776,  13.06499501,  12.85254842,  66.56201635,\n",
       "        21.81963106,  44.46362513,  23.58474518,  11.65024458,\n",
       "        14.83344255,  63.29241792,  13.1577609 ,  13.48883815,\n",
       "        16.30452996,  13.72465721,  10.94265707,  12.70293687,\n",
       "        20.9514106 ,  13.46863256,  14.2053124 ,  10.49021027,\n",
       "        28.43819261,  37.46182024,  36.44924732,  10.8824431 ,\n",
       "       100.        ,  13.63404057])"
      ]
     },
     "execution_count": 83,
     "metadata": {},
     "output_type": "execute_result"
    }
   ],
   "source": [
    "#feature importance\n",
    "feature_importance_rf = abs(rf.feature_importances_)\n",
    "feature_importance_rf = 100.0 * (feature_importance_rf / feature_importance_rf.max())\n",
    "feature_importance_rf"
   ]
  },
  {
   "cell_type": "markdown",
   "metadata": {},
   "source": [
    "#### Create a few new variables in your dataframe to represent interesting features of a job title."
   ]
  },
  {
   "cell_type": "code",
   "execution_count": 84,
   "metadata": {},
   "outputs": [
    {
     "data": {
      "text/plain": [
       "{'AVMaps Workflow Technical Lead Manager / TLM',\n",
       " 'Analyst | Data Analysis',\n",
       " 'Assay Researcher (Sr. Research Assistant)',\n",
       " 'Assistant Data Analyst (Data Analytics, Research and Innovation Team)',\n",
       " 'Assistant/Associate Clipper Program Coordinator, Data Analysis',\n",
       " 'Associate Data Scientist Intern',\n",
       " 'Biostatistician I (Research Associate)',\n",
       " 'COMPUTER SCIENTIST',\n",
       " 'Coordinator Statistical Research I',\n",
       " 'DATA SCIENTIST',\n",
       " 'Data Science Manager',\n",
       " 'Data Science Specialist',\n",
       " 'Data Scientist',\n",
       " 'Data Scientist (944)',\n",
       " 'Data Scientist - Artificial Intelligence-PS16194',\n",
       " 'Data Scientist - Cyber Security',\n",
       " 'Data Scientist - Healthcare',\n",
       " 'Data Scientist / Quantitative Researcher – High Frequency Futures',\n",
       " 'Data Scientist Intern, PhD, 2019',\n",
       " 'Data Scientist Internship',\n",
       " 'Data Scientist, Analyst (Invest & Advice Products)',\n",
       " 'Data Scientist, Insights',\n",
       " 'Data Scientist, Personalization',\n",
       " 'Data Scientist, Seller Modeling',\n",
       " 'Data Scientist/GIS Analyst',\n",
       " 'Digital Signal Processing Scientist',\n",
       " 'ENVIRONMENTAL SCIENTIST - AIR',\n",
       " 'ENVIRONMENTAL SCIENTIST 1-2',\n",
       " 'Enterprise Data Scientist',\n",
       " 'Epidemiologist',\n",
       " 'Financial Analyst II - Neuroscience Translational Research Center',\n",
       " 'Industrial Engineer - Data Scientist',\n",
       " 'Internship - Data Science (Part-time Fall 2018',\n",
       " 'JCSDA Project Scientist I/II - ESRL Liaison',\n",
       " 'Learning Partner, Human Resources',\n",
       " 'Lifetime Research Analyst',\n",
       " 'Machine Learning - Feature Engineer - GPShopper',\n",
       " 'NLP Data Scientist',\n",
       " 'OPERATIONS RESEARCH',\n",
       " 'Operations Research Analyst (Data Scientist)',\n",
       " 'Planning Research Analyst (Open until filled)',\n",
       " 'Planning and Research Analyst (South Mountain Community College)',\n",
       " 'Planning and Research Analyst Sr',\n",
       " 'Population Health Scientist',\n",
       " 'Post-Award Analyst (Research Accounts Receivable and Collections)',\n",
       " 'PostDoctoral Scientist in Aquatic Ecology',\n",
       " 'Professional Assistant',\n",
       " 'Real Estate Services Tech 1',\n",
       " 'Remote Sensing Data Scientist Associate',\n",
       " 'Research Associate',\n",
       " 'Research Engineering Scientist Associate II, Department of Neurology',\n",
       " 'Research Engineering Scientist Associate III, Department of Pediatrics',\n",
       " 'Research Engineering/ Scientist Assistant',\n",
       " 'Research Lab Specialist',\n",
       " 'Research Scientist (non-laboratory) - Hematological Malignancies',\n",
       " 'Research Scientist - Leukemia',\n",
       " 'Research Scientist, Hepatobiliary & Pancreatic Cancers - Quantitative Imaging & 3-D Printing',\n",
       " 'Research Scientist- Artificial Intelligence',\n",
       " 'School Survey Data Collector -Dallas, TX',\n",
       " 'Senior Business Analyst',\n",
       " 'Senior Data Analyst',\n",
       " 'Senior Professional Research Assistant',\n",
       " 'Senior Software Engineer - Artificial Intelligence/Machine Learning',\n",
       " 'Signal Processing and Automation Engineering Scientist',\n",
       " 'Software Engineer (Infrastructure)',\n",
       " 'Solution Advisor | Professional Services Consultant',\n",
       " 'Sr. Analytics Consultant – BI & Big Data Scrum Master',\n",
       " 'Staff Data Scientist',\n",
       " 'Statistical Analyst (Research Associate)',\n",
       " 'Student Trainee (Physical Scientist), ZP-1399-I',\n",
       " 'Supervisory Operations Research Analyst',\n",
       " 'Technical Research Analyst',\n",
       " 'The Carter Center: Prospect Research Analyst, Development, Major Gifts',\n",
       " 'VP, Data Scientist - Chase Frontline Intelligence',\n",
       " 'data science instructor'}"
      ]
     },
     "execution_count": 84,
     "metadata": {},
     "output_type": "execute_result"
    }
   ],
   "source": [
    "unique_job=set(new_df.job_title.values)\n",
    "unique_job "
   ]
  },
  {
   "cell_type": "code",
   "execution_count": 85,
   "metadata": {
    "scrolled": true
   },
   "outputs": [
    {
     "name": "stdout",
     "output_type": "stream",
     "text": [
      "scientist 55\n",
      "analyst 25\n",
      "associate 9\n",
      "engineer 8\n",
      "senior 10\n",
      "instructor 1\n",
      "research 35\n",
      "coordinator 2\n",
      "specialist 2\n"
     ]
    }
   ],
   "source": [
    "new_df[\"manager\"] = list(map(int, new_df[\"job_title\"].str.lower().str.contains(\"manager\")))\n",
    "new_df[\"scientist\"] = list(map(int, new_df[\"job_title\"].str.lower().str.contains(\"scientist\")))\n",
    "new_df[\"analyst\"] = list(map(int, new_df[\"job_title\"].str.lower().str.contains(\"analy\")))\n",
    "new_df[\"associate\"] = list(map(int, new_df[\"job_title\"].str.lower().str.contains(\"associate\")|new_df[\"job_title\"].str.lower().str.contains(\"Assistant\")))\n",
    "new_df[\"engineer\"] = list(map(int, new_df[\"job_title\"].str.lower().str.contains(\"engineer\")))\n",
    "new_df[\"senior\"] = list(map(int, new_df[\"job_title\"].str.lower().str.contains(\"senior\")|new_df[\"job_title\"].str.lower().str.contains(\"snr\")|new_df[\"job_title\"].str.lower().str.contains(\"sr\")))\n",
    "new_df[\"instructor\"] = list(map(int, new_df[\"job_title\"].str.lower().str.contains(\"instructor\")))\n",
    "new_df[\"research\"] = list(map(int, new_df[\"job_title\"].str.lower().str.contains(\"research\")))\n",
    "new_df[\"coordinator\"] = list(map(int, new_df[\"job_title\"].str.lower().str.contains(\"coordinator\")))\n",
    "new_df[\"specialist\"] = list(map(int, new_df[\"job_title\"].str.lower().str.contains(\"special\")))\n",
    "job_title_feature_names=['scientist','analyst','associate',\n",
    "                   'engineer','senior','instructor','research','coordinator','specialist']                        \n",
    "\n",
    "for feature in job_title_feature_names:\n",
    "    print(feature, new_df[feature].sum())"
   ]
  },
  {
   "cell_type": "code",
   "execution_count": 86,
   "metadata": {},
   "outputs": [
    {
     "data": {
      "text/plain": [
       "Index(['job_title', 'company_name', 'location', 'salary', 'avg_salary',\n",
       "       'salary_binary', 'manager', 'scientist', 'analyst', 'associate',\n",
       "       'engineer', 'senior', 'instructor', 'research', 'coordinator',\n",
       "       'specialist'],\n",
       "      dtype='object')"
      ]
     },
     "execution_count": 86,
     "metadata": {},
     "output_type": "execute_result"
    }
   ],
   "source": [
    "new_df.columns"
   ]
  },
  {
   "cell_type": "markdown",
   "metadata": {},
   "source": [
    "###### From the coefficients above we can infer that instructor roles are more associated with high salaries than engineer roles. We can also see that research roles are negatively associated with high salaries. "
   ]
  },
  {
   "cell_type": "code",
   "execution_count": 87,
   "metadata": {},
   "outputs": [],
   "source": [
    "# new_df = pd.get_dummies(new_df,columns=['location'])"
   ]
  },
  {
   "cell_type": "code",
   "execution_count": 88,
   "metadata": {},
   "outputs": [],
   "source": [
    "df_dum = pd.get_dummies(new_df,columns=['location'])"
   ]
  },
  {
   "cell_type": "code",
   "execution_count": 89,
   "metadata": {},
   "outputs": [
    {
     "data": {
      "text/html": [
       "<div>\n",
       "<style scoped>\n",
       "    .dataframe tbody tr th:only-of-type {\n",
       "        vertical-align: middle;\n",
       "    }\n",
       "\n",
       "    .dataframe tbody tr th {\n",
       "        vertical-align: top;\n",
       "    }\n",
       "\n",
       "    .dataframe thead th {\n",
       "        text-align: right;\n",
       "    }\n",
       "</style>\n",
       "<table border=\"1\" class=\"dataframe\">\n",
       "  <thead>\n",
       "    <tr style=\"text-align: right;\">\n",
       "      <th></th>\n",
       "      <th>job_title</th>\n",
       "      <th>company_name</th>\n",
       "      <th>location</th>\n",
       "      <th>salary</th>\n",
       "      <th>avg_salary</th>\n",
       "      <th>salary_binary</th>\n",
       "      <th>manager</th>\n",
       "      <th>scientist</th>\n",
       "      <th>analyst</th>\n",
       "      <th>associate</th>\n",
       "      <th>engineer</th>\n",
       "      <th>senior</th>\n",
       "      <th>instructor</th>\n",
       "      <th>research</th>\n",
       "      <th>coordinator</th>\n",
       "      <th>specialist</th>\n",
       "    </tr>\n",
       "  </thead>\n",
       "  <tbody>\n",
       "    <tr>\n",
       "      <th>0</th>\n",
       "      <td>Data Scientist</td>\n",
       "      <td>Dollar Shave Club</td>\n",
       "      <td>Marina del Rey</td>\n",
       "      <td>$101,000 - $148,000 a year (Indeed est.)</td>\n",
       "      <td>124500.0</td>\n",
       "      <td>1</td>\n",
       "      <td>0</td>\n",
       "      <td>1</td>\n",
       "      <td>0</td>\n",
       "      <td>0</td>\n",
       "      <td>0</td>\n",
       "      <td>0</td>\n",
       "      <td>0</td>\n",
       "      <td>0</td>\n",
       "      <td>0</td>\n",
       "      <td>0</td>\n",
       "    </tr>\n",
       "    <tr>\n",
       "      <th>1</th>\n",
       "      <td>Staff Data Scientist</td>\n",
       "      <td>Areté Associates</td>\n",
       "      <td>Northridge</td>\n",
       "      <td>$95,000 - $140,000 a year (Indeed est.)</td>\n",
       "      <td>117500.0</td>\n",
       "      <td>1</td>\n",
       "      <td>0</td>\n",
       "      <td>1</td>\n",
       "      <td>0</td>\n",
       "      <td>0</td>\n",
       "      <td>0</td>\n",
       "      <td>0</td>\n",
       "      <td>0</td>\n",
       "      <td>0</td>\n",
       "      <td>0</td>\n",
       "      <td>0</td>\n",
       "    </tr>\n",
       "    <tr>\n",
       "      <th>2</th>\n",
       "      <td>NLP Data Scientist</td>\n",
       "      <td>Albert</td>\n",
       "      <td>Los Angeles</td>\n",
       "      <td>$113,000 - $166,000 a year (Indeed est.)</td>\n",
       "      <td>139500.0</td>\n",
       "      <td>1</td>\n",
       "      <td>0</td>\n",
       "      <td>1</td>\n",
       "      <td>0</td>\n",
       "      <td>0</td>\n",
       "      <td>0</td>\n",
       "      <td>0</td>\n",
       "      <td>0</td>\n",
       "      <td>0</td>\n",
       "      <td>0</td>\n",
       "      <td>0</td>\n",
       "    </tr>\n",
       "    <tr>\n",
       "      <th>3</th>\n",
       "      <td>Data Scientist - Healthcare</td>\n",
       "      <td>Beyond Limits</td>\n",
       "      <td>Glendale</td>\n",
       "      <td>$116,000 - $171,000 a year (Indeed est.)</td>\n",
       "      <td>143500.0</td>\n",
       "      <td>1</td>\n",
       "      <td>0</td>\n",
       "      <td>1</td>\n",
       "      <td>0</td>\n",
       "      <td>0</td>\n",
       "      <td>0</td>\n",
       "      <td>0</td>\n",
       "      <td>0</td>\n",
       "      <td>0</td>\n",
       "      <td>0</td>\n",
       "      <td>0</td>\n",
       "    </tr>\n",
       "    <tr>\n",
       "      <th>4</th>\n",
       "      <td>Data Scientist</td>\n",
       "      <td>Hearts and Science</td>\n",
       "      <td>Burbank</td>\n",
       "      <td>$86,000 - $127,000 a year (Indeed est.)</td>\n",
       "      <td>106500.0</td>\n",
       "      <td>1</td>\n",
       "      <td>0</td>\n",
       "      <td>1</td>\n",
       "      <td>0</td>\n",
       "      <td>0</td>\n",
       "      <td>0</td>\n",
       "      <td>0</td>\n",
       "      <td>0</td>\n",
       "      <td>0</td>\n",
       "      <td>0</td>\n",
       "      <td>0</td>\n",
       "    </tr>\n",
       "  </tbody>\n",
       "</table>\n",
       "</div>"
      ],
      "text/plain": [
       "                     job_title        company_name        location  \\\n",
       "0               Data Scientist   Dollar Shave Club  Marina del Rey   \n",
       "1         Staff Data Scientist    Areté Associates      Northridge   \n",
       "2           NLP Data Scientist              Albert     Los Angeles   \n",
       "3  Data Scientist - Healthcare       Beyond Limits        Glendale   \n",
       "4               Data Scientist  Hearts and Science         Burbank   \n",
       "\n",
       "                                     salary  avg_salary  salary_binary  \\\n",
       "0  $101,000 - $148,000 a year (Indeed est.)    124500.0              1   \n",
       "1   $95,000 - $140,000 a year (Indeed est.)    117500.0              1   \n",
       "2  $113,000 - $166,000 a year (Indeed est.)    139500.0              1   \n",
       "3  $116,000 - $171,000 a year (Indeed est.)    143500.0              1   \n",
       "4   $86,000 - $127,000 a year (Indeed est.)    106500.0              1   \n",
       "\n",
       "   manager  scientist  analyst  associate  engineer  senior  instructor  \\\n",
       "0        0          1        0          0         0       0           0   \n",
       "1        0          1        0          0         0       0           0   \n",
       "2        0          1        0          0         0       0           0   \n",
       "3        0          1        0          0         0       0           0   \n",
       "4        0          1        0          0         0       0           0   \n",
       "\n",
       "   research  coordinator  specialist  \n",
       "0         0            0           0  \n",
       "1         0            0           0  \n",
       "2         0            0           0  \n",
       "3         0            0           0  \n",
       "4         0            0           0  "
      ]
     },
     "execution_count": 89,
     "metadata": {},
     "output_type": "execute_result"
    }
   ],
   "source": [
    "new_df.head()"
   ]
  },
  {
   "cell_type": "code",
   "execution_count": 90,
   "metadata": {},
   "outputs": [],
   "source": [
    "df_dum = df_dum.iloc[:,5:]"
   ]
  },
  {
   "cell_type": "code",
   "execution_count": 91,
   "metadata": {},
   "outputs": [
    {
     "data": {
      "text/plain": [
       "Index(['manager', 'scientist', 'analyst', 'associate', 'engineer', 'senior',\n",
       "       'instructor', 'research', 'coordinator', 'specialist',\n",
       "       'location_Atlanta', 'location_Aurora', 'location_Austin',\n",
       "       'location_Boulder', 'location_Broomfield', 'location_Burbank',\n",
       "       'location_Carnegie', 'location_Chicago', 'location_Dallas',\n",
       "       'location_Denver', 'location_Duluth', 'location_Fort Lauderdale',\n",
       "       'location_Glendale', 'location_Houston', 'location_Irving',\n",
       "       'location_Los Angeles', 'location_Manhattan', 'location_Marina del Rey',\n",
       "       'location_Miami', 'location_Mount Laurel', 'location_New York',\n",
       "       'location_Northridge', 'location_Painted Post', 'location_Philadelphia',\n",
       "       'location_Phoenix', 'location_Pittsburgh', 'location_Portland',\n",
       "       'location_Queens', 'location_San Francisco', 'location_Tempe'],\n",
       "      dtype='object')"
      ]
     },
     "execution_count": 91,
     "metadata": {},
     "output_type": "execute_result"
    }
   ],
   "source": [
    "df_dum.columns"
   ]
  },
  {
   "cell_type": "code",
   "execution_count": 95,
   "metadata": {},
   "outputs": [],
   "source": [
    "X_dum = df_dum\n",
    "\n",
    "y = new_df[\"salary_binary\"]"
   ]
  },
  {
   "cell_type": "code",
   "execution_count": 96,
   "metadata": {},
   "outputs": [],
   "source": [
    "#use logistic regression to predict salary\n",
    "from sklearn.utils import shuffle\n",
    "\n",
    "logreg = LogisticRegression()\n",
    "logreg.fit(X_dum, y)\n",
    "predictions = logreg.predict(X_dum)"
   ]
  },
  {
   "cell_type": "code",
   "execution_count": 97,
   "metadata": {},
   "outputs": [
    {
     "name": "stdout",
     "output_type": "stream",
     "text": [
      "cross_val_score:  0.7656899881164586\n",
      "Score:  0.898989898989899\n"
     ]
    }
   ],
   "source": [
    "print('cross_val_score: ',cross_val_score(logreg, X_dum, y).mean())\n",
    "print('Score: ', logreg.score( X_dum, y))"
   ]
  },
  {
   "cell_type": "code",
   "execution_count": 98,
   "metadata": {},
   "outputs": [
    {
     "name": "stdout",
     "output_type": "stream",
     "text": [
      "cross_val_score:  0.7862076648841354\n",
      "Score:  0.98989898989899\n"
     ]
    }
   ],
   "source": [
    "#use random forest to predict salary\n",
    "rfc = RandomForestClassifier(n_estimators=300, random_state=90)\n",
    "rfc.fit(X_dum, y)\n",
    "print('cross_val_score: ',cross_val_score(rfc, X_dum, y).mean())\n",
    "print('Score: ', rfc.score( X_dum, y))"
   ]
  },
  {
   "cell_type": "code",
   "execution_count": 99,
   "metadata": {},
   "outputs": [],
   "source": [
    "from sklearn.neighbors import KNeighborsClassifier"
   ]
  },
  {
   "cell_type": "code",
   "execution_count": 100,
   "metadata": {},
   "outputs": [
    {
     "name": "stdout",
     "output_type": "stream",
     "text": [
      "cross_val_score:  0.7264743018419489\n",
      "Score:  0.797979797979798\n"
     ]
    }
   ],
   "source": [
    "knn = KNeighborsClassifier()\n",
    "knn.fit(X_dum, y)\n",
    "print('cross_val_score: ',cross_val_score(knn, X_dum, y).mean())\n",
    "print('Score: ', knn.score( X_dum, y))"
   ]
  },
  {
   "cell_type": "markdown",
   "metadata": {},
   "source": [
    "### Comparing cross validation of location and job title"
   ]
  },
  {
   "cell_type": "code",
   "execution_count": 101,
   "metadata": {},
   "outputs": [
    {
     "name": "stdout",
     "output_type": "stream",
     "text": [
      " random forest Cross val score of location 0.5952631578947368\n",
      " logestic regression Cross val score of location: 0.5847368421052632\n",
      "logestic regression Cross val score of job title and location feature : 0.7656899881164586\n",
      "knn cross_val_score of job title and location feature :  0.7264743018419489\n",
      " random forest Cross val score of job title and location feature :  0.7862076648841354\n"
     ]
    }
   ],
   "source": [
    "print(' random forest Cross val score of location', cross_val_score(rf, X_dummy, y, cv=5).mean())\n",
    "print(' logestic regression Cross val score of location:', cross_val_score(lg, X_dummy, y, cv=5).mean()) \n",
    "print('logestic regression Cross val score of job title and location feature :',cross_val_score(logreg, X_dum, y).mean())\n",
    "print('knn cross_val_score of job title and location feature : ',cross_val_score(knn, X_dum, y).mean())\n",
    "print(' random forest Cross val score of job title and location feature : ',cross_val_score(rfc, X_dum, y).mean())"
   ]
  },
  {
   "cell_type": "markdown",
   "metadata": {},
   "source": [
    "Models with two features job title and location have higher cross validation score than models with one features location. As it is clear Random forest did better than others models."
   ]
  },
  {
   "cell_type": "code",
   "execution_count": 102,
   "metadata": {},
   "outputs": [
    {
     "name": "stdout",
     "output_type": "stream",
     "text": [
      " random forest score of location 0.8282828282828283\n",
      " logestic regression score of location: 0.8282828282828283\n",
      "logestic regression score of job title and location feature : 0.898989898989899\n",
      "knn score of job title and location feature :  0.797979797979798\n",
      " random forest score of job title and location feature :  0.98989898989899\n"
     ]
    }
   ],
   "source": [
    "print(' random forest score of location', rf.score( X_dummy, y))\n",
    "print(' logestic regression score of location:', lg.score(X_dummy, y)) \n",
    "print('logestic regression score of job title and location feature :',logreg.score(X_dum, y))\n",
    "print('knn score of job title and location feature : ',knn.score(X_dum, y))\n",
    "print(' random forest score of job title and location feature : ',rfc.score( X_dum, y))"
   ]
  },
  {
   "cell_type": "markdown",
   "metadata": {},
   "source": [
    "### BONUS\n",
    "\n",
    "Convert your executive summary into a public blog post of at least 500 words, in which you document your approach in a tutorial for other aspiring data scientists. Link to this in your notebook."
   ]
  },
  {
   "cell_type": "code",
   "execution_count": null,
   "metadata": {},
   "outputs": [],
   "source": [
    "## YOUR LINK HERE IN MARKDOWN FORMAT "
   ]
  }
 ],
 "metadata": {
  "kernelspec": {
   "display_name": "Python 3",
   "language": "python",
   "name": "python3"
  },
  "language_info": {
   "codemirror_mode": {
    "name": "ipython",
    "version": 3
   },
   "file_extension": ".py",
   "mimetype": "text/x-python",
   "name": "python",
   "nbconvert_exporter": "python",
   "pygments_lexer": "ipython3",
   "version": "3.7.2"
  },
  "toc": {
   "nav_menu": {},
   "number_sections": false,
   "sideBar": true,
   "skip_h1_title": true,
   "title_cell": "Table of Contents",
   "title_sidebar": "Contents",
   "toc_cell": false,
   "toc_position": {},
   "toc_section_display": "block",
   "toc_window_display": false
  }
 },
 "nbformat": 4,
 "nbformat_minor": 1
}
